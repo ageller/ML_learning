{
 "cells": [
  {
   "cell_type": "markdown",
   "metadata": {},
   "source": [
    "# Learning about RNN, GRU, LSTM models\n",
    "\n",
    "Using tensorflow's keras within my `ml-tensorflow-wsl` env.  Most of the code (and this table) comes from [ChatGPT](https://chatgpt.com/share/6761996f-b804-8008-a89d-7ed51793e5e4).\n",
    "\n",
    "| Feature                      | **RNN**                 | **LSTM**                          | **GRU**                           |\n",
    "|------------------------------|-------------------------|-----------------------------------|----------------------------------|\n",
    "| **Gates**                   | None                   | Input, Forget, Output             | Update, Reset                    |\n",
    "| **Long-term Dependencies**   | Struggles (vanishing gradients) | Handles effectively              | Handles effectively              |\n",
    "| **Complexity**               | Low (simple architecture) | High (more gates, slower)        | Medium (simpler than LSTM)       |\n",
    "| **Training Time**            | Fast                   | Slower                           | Faster than LSTM                 |\n",
    "| **Memory Usage**             | Low                    | High                             | Lower than LSTM                  |\n",
    "| **Performance**              | Poor for long sequences | Excellent for long sequences     | Similar to LSTM, often faster    |\n",
    "| **Use Cases**                | Short sequences         | Text, speech, long sequences     | Similar to LSTM, faster training |\n"
   ]
  },
  {
   "cell_type": "code",
   "execution_count": 7,
   "metadata": {},
   "outputs": [],
   "source": [
    "#import numpy as np\n",
    "#import pandas as pd\n",
    "#import tensorflow as tf\n",
    "from tensorflow.keras.models import Sequential\n",
    "from tensorflow.keras.layers import Embedding, SimpleRNN, Dense, LSTM, GRU\n",
    "# from tensorflow.keras.preprocessing.text import Tokenizer\n",
    "from tensorflow.keras.preprocessing.sequence import pad_sequences\n",
    "# from sklearn.model_selection import train_test_split\n",
    "# from sklearn.metrics import accuracy_score\n",
    "\n",
    "import matplotlib.pyplot as plt\n"
   ]
  },
  {
   "cell_type": "markdown",
   "metadata": {},
   "source": [
    "Using the IMDB movie reviews dataset for simplicity. Keras provides this dataset directly.\n",
    "\n",
    "- X_train and X_test contain tokenized movie reviews (each word replaced by an integer ID).\n",
    "- y_train and y_test are sentiment labels (0 for negative, 1 for positive).\n"
   ]
  },
  {
   "cell_type": "code",
   "execution_count": 2,
   "metadata": {},
   "outputs": [
    {
     "name": "stdout",
     "output_type": "stream",
     "text": [
      "Training data shape: (25000, 100), Labels shape: (25000,)\n"
     ]
    }
   ],
   "source": [
    "# Load IMDB dataset\n",
    "from tensorflow.keras.datasets import imdb\n",
    "\n",
    "vocab_size = 10000  # Number of most frequent words to use\n",
    "max_length = 100    # Max length of each input sequence (padded or truncated)\n",
    "index_from = 3      # word index offset\n",
    "\n",
    "\n",
    "# Load IMDB dataset\n",
    "(X_train, y_train), (X_test, y_test) = imdb.load_data(num_words=vocab_size, index_from=index_from)\n",
    "\n",
    "# Pad sequences to ensure uniform input size\n",
    "X_train = pad_sequences(X_train, maxlen=max_length, padding='post', truncating='post')\n",
    "X_test = pad_sequences(X_test, maxlen=max_length, padding='post', truncating='post')\n",
    "\n",
    "print(f\"Training data shape: {X_train.shape}, Labels shape: {y_train.shape}\")"
   ]
  },
  {
   "cell_type": "code",
   "execution_count": 3,
   "metadata": {},
   "outputs": [
    {
     "data": {
      "text/plain": [
       "array([   1,   14,   22,   16,   43,  530,  973, 1622, 1385,   65,  458,\n",
       "       4468,   66, 3941,    4,  173,   36,  256,    5,   25,  100,   43,\n",
       "        838,  112,   50,  670,    2,    9,   35,  480,  284,    5,  150,\n",
       "          4,  172,  112,  167,    2,  336,  385,   39,    4,  172, 4536,\n",
       "       1111,   17,  546,   38,   13,  447,    4,  192,   50,   16,    6,\n",
       "        147, 2025,   19,   14,   22,    4, 1920, 4613,  469,    4,   22,\n",
       "         71,   87,   12,   16,   43,  530,   38,   76,   15,   13, 1247,\n",
       "          4,   22,   17,  515,   17,   12,   16,  626,   18,    2,    5,\n",
       "         62,  386,   12,    8,  316,    8,  106,    5,    4, 2223, 5244,\n",
       "         16], dtype=int32)"
      ]
     },
     "execution_count": 3,
     "metadata": {},
     "output_type": "execute_result"
    }
   ],
   "source": [
    "X_train[0]"
   ]
  },
  {
   "cell_type": "markdown",
   "metadata": {},
   "source": [
    "Also get the actual data so that I can compare to the real reviews.  (Note that ChatGPT forgot about the \"index_from\" parameter, here and above.  I found that on Stack Overflow [here](https://stackoverflow.com/questions/42821330/restore-original-text-from-keras-s-imdb-dataset).)"
   ]
  },
  {
   "cell_type": "code",
   "execution_count": 4,
   "metadata": {},
   "outputs": [],
   "source": [
    "# Load the word index for IMDB dataset\n",
    "word_index = imdb.get_word_index()\n",
    "\n",
    "# Reverse the word index to get an index-to-word mapping\n",
    "reverse_word_index = {(value + index_from) : key for (key, value) in word_index.items()}\n",
    "\n",
    "# Special tokens in the dataset\n",
    "reverse_word_index[0] = \"<PAD>\"   # Padding token\n",
    "reverse_word_index[1] = \"<START>\" # Start token\n",
    "reverse_word_index[2] = \"<UNK>\"   # Unknown token\n",
    "reverse_word_index[3] = \"<UNUSED>\"\n",
    "\n",
    "def decode_review(encoded_review):\n",
    "    \"\"\"\n",
    "    Convert a tokenized review back to text.\n",
    "    \"\"\"\n",
    "    return \" \".join([reverse_word_index[id] for id in encoded_review ])\n"
   ]
  },
  {
   "cell_type": "code",
   "execution_count": 5,
   "metadata": {},
   "outputs": [
    {
     "name": "stdout",
     "output_type": "stream",
     "text": [
      "Decoded Review:\n",
      "<START> this film was just brilliant casting location scenery story direction everyone's really suited the part they played and you could just imagine being there robert <UNK> is an amazing actor and now the same being director <UNK> father came from the same scottish island as myself so i loved the fact there was a real connection with this film the witty remarks throughout the film were great it was just brilliant so much that i bought the film as soon as it was released for <UNK> and would recommend it to everyone to watch and the fly fishing was\n",
      "\n",
      "Sentiment Label: Positive\n"
     ]
    }
   ],
   "source": [
    "# Example: Decode a training review\n",
    "index = 0\n",
    "sample_review = X_train[index]  # First tokenized review\n",
    "print(\"Decoded Review:\")\n",
    "print(decode_review(sample_review))\n",
    "\n",
    "# Display the corresponding label\n",
    "print(\"\\nSentiment Label:\", \"Positive\" if y_train[index] == 1 else \"Negative\")\n"
   ]
  },
  {
   "cell_type": "markdown",
   "metadata": {},
   "source": [
    "## Build the RNN model\n",
    "\n",
    "- Embedding: Converts integer word indices to dense word vectors.\n",
    "- SimpleRNN: Processes the sequence of word embeddings.\n",
    "- Dense: Outputs a single value (0 or 1) using the sigmoid activation for binary classification."
   ]
  },
  {
   "cell_type": "code",
   "execution_count": 8,
   "metadata": {},
   "outputs": [
    {
     "name": "stderr",
     "output_type": "stream",
     "text": [
      "/home/ageller/miniforge3/envs/ml-tensorflow-wsl/lib/python3.12/site-packages/keras/src/layers/core/embedding.py:90: UserWarning: Argument `input_length` is deprecated. Just remove it.\n",
      "  warnings.warn(\n",
      "I0000 00:00:1734456779.307513   24281 gpu_device.cc:2022] Created device /job:localhost/replica:0/task:0/device:GPU:0 with 5520 MB memory:  -> device: 0, name: NVIDIA GeForce RTX 4070 Laptop GPU, pci bus id: 0000:01:00.0, compute capability: 8.9\n"
     ]
    },
    {
     "data": {
      "text/html": [
       "<pre style=\"white-space:pre;overflow-x:auto;line-height:normal;font-family:Menlo,'DejaVu Sans Mono',consolas,'Courier New',monospace\"><span style=\"font-weight: bold\">Model: \"sequential\"</span>\n",
       "</pre>\n"
      ],
      "text/plain": [
       "\u001b[1mModel: \"sequential\"\u001b[0m\n"
      ]
     },
     "metadata": {},
     "output_type": "display_data"
    },
    {
     "data": {
      "text/html": [
       "<pre style=\"white-space:pre;overflow-x:auto;line-height:normal;font-family:Menlo,'DejaVu Sans Mono',consolas,'Courier New',monospace\">┏━━━━━━━━━━━━━━━━━━━━━━━━━━━━━━━━━┳━━━━━━━━━━━━━━━━━━━━━━━━┳━━━━━━━━━━━━━━━┓\n",
       "┃<span style=\"font-weight: bold\"> Layer (type)                    </span>┃<span style=\"font-weight: bold\"> Output Shape           </span>┃<span style=\"font-weight: bold\">       Param # </span>┃\n",
       "┡━━━━━━━━━━━━━━━━━━━━━━━━━━━━━━━━━╇━━━━━━━━━━━━━━━━━━━━━━━━╇━━━━━━━━━━━━━━━┩\n",
       "│ embedding (<span style=\"color: #0087ff; text-decoration-color: #0087ff\">Embedding</span>)           │ ?                      │   <span style=\"color: #00af00; text-decoration-color: #00af00\">0</span> (unbuilt) │\n",
       "├─────────────────────────────────┼────────────────────────┼───────────────┤\n",
       "│ simple_rnn (<span style=\"color: #0087ff; text-decoration-color: #0087ff\">SimpleRNN</span>)          │ ?                      │   <span style=\"color: #00af00; text-decoration-color: #00af00\">0</span> (unbuilt) │\n",
       "├─────────────────────────────────┼────────────────────────┼───────────────┤\n",
       "│ dense (<span style=\"color: #0087ff; text-decoration-color: #0087ff\">Dense</span>)                   │ ?                      │   <span style=\"color: #00af00; text-decoration-color: #00af00\">0</span> (unbuilt) │\n",
       "└─────────────────────────────────┴────────────────────────┴───────────────┘\n",
       "</pre>\n"
      ],
      "text/plain": [
       "┏━━━━━━━━━━━━━━━━━━━━━━━━━━━━━━━━━┳━━━━━━━━━━━━━━━━━━━━━━━━┳━━━━━━━━━━━━━━━┓\n",
       "┃\u001b[1m \u001b[0m\u001b[1mLayer (type)                   \u001b[0m\u001b[1m \u001b[0m┃\u001b[1m \u001b[0m\u001b[1mOutput Shape          \u001b[0m\u001b[1m \u001b[0m┃\u001b[1m \u001b[0m\u001b[1m      Param #\u001b[0m\u001b[1m \u001b[0m┃\n",
       "┡━━━━━━━━━━━━━━━━━━━━━━━━━━━━━━━━━╇━━━━━━━━━━━━━━━━━━━━━━━━╇━━━━━━━━━━━━━━━┩\n",
       "│ embedding (\u001b[38;5;33mEmbedding\u001b[0m)           │ ?                      │   \u001b[38;5;34m0\u001b[0m (unbuilt) │\n",
       "├─────────────────────────────────┼────────────────────────┼───────────────┤\n",
       "│ simple_rnn (\u001b[38;5;33mSimpleRNN\u001b[0m)          │ ?                      │   \u001b[38;5;34m0\u001b[0m (unbuilt) │\n",
       "├─────────────────────────────────┼────────────────────────┼───────────────┤\n",
       "│ dense (\u001b[38;5;33mDense\u001b[0m)                   │ ?                      │   \u001b[38;5;34m0\u001b[0m (unbuilt) │\n",
       "└─────────────────────────────────┴────────────────────────┴───────────────┘\n"
      ]
     },
     "metadata": {},
     "output_type": "display_data"
    },
    {
     "data": {
      "text/html": [
       "<pre style=\"white-space:pre;overflow-x:auto;line-height:normal;font-family:Menlo,'DejaVu Sans Mono',consolas,'Courier New',monospace\"><span style=\"font-weight: bold\"> Total params: </span><span style=\"color: #00af00; text-decoration-color: #00af00\">0</span> (0.00 B)\n",
       "</pre>\n"
      ],
      "text/plain": [
       "\u001b[1m Total params: \u001b[0m\u001b[38;5;34m0\u001b[0m (0.00 B)\n"
      ]
     },
     "metadata": {},
     "output_type": "display_data"
    },
    {
     "data": {
      "text/html": [
       "<pre style=\"white-space:pre;overflow-x:auto;line-height:normal;font-family:Menlo,'DejaVu Sans Mono',consolas,'Courier New',monospace\"><span style=\"font-weight: bold\"> Trainable params: </span><span style=\"color: #00af00; text-decoration-color: #00af00\">0</span> (0.00 B)\n",
       "</pre>\n"
      ],
      "text/plain": [
       "\u001b[1m Trainable params: \u001b[0m\u001b[38;5;34m0\u001b[0m (0.00 B)\n"
      ]
     },
     "metadata": {},
     "output_type": "display_data"
    },
    {
     "data": {
      "text/html": [
       "<pre style=\"white-space:pre;overflow-x:auto;line-height:normal;font-family:Menlo,'DejaVu Sans Mono',consolas,'Courier New',monospace\"><span style=\"font-weight: bold\"> Non-trainable params: </span><span style=\"color: #00af00; text-decoration-color: #00af00\">0</span> (0.00 B)\n",
       "</pre>\n"
      ],
      "text/plain": [
       "\u001b[1m Non-trainable params: \u001b[0m\u001b[38;5;34m0\u001b[0m (0.00 B)\n"
      ]
     },
     "metadata": {},
     "output_type": "display_data"
    }
   ],
   "source": [
    "# RNN Model for Sentiment Analysis\n",
    "embedding_dim = 32  # Size of word embedding vectors\n",
    "\n",
    "model = Sequential([\n",
    "    Embedding(input_dim=vocab_size, output_dim=embedding_dim, input_length=max_length),\n",
    "    SimpleRNN(64, return_sequences=False),  # RNN layer with 64 units\n",
    "    Dense(1, activation='sigmoid')          # Output layer for binary classification\n",
    "])\n",
    "\n",
    "# Compile the model\n",
    "model.compile(optimizer='adam', loss='binary_crossentropy', metrics=['accuracy'])\n",
    "\n",
    "# Model summary\n",
    "model.summary()"
   ]
  },
  {
   "cell_type": "markdown",
   "metadata": {},
   "source": [
    "Train the model\n",
    "\n",
    "(some notes on the batch size and epochs from ChatGPT)\n",
    "\n",
    "| Hyperparameter | Small Value| Large Value |\n",
    "| -------------- | ---------- | ----------- |\n",
    "| Batch Size     | Noisy updates, slower training, better generalization | Smooth updates, faster training, risk of poor generalization |\n",
    "| Epochs         | Underfitting (not enough training) | Overfitting (training too long) |"
   ]
  },
  {
   "cell_type": "code",
   "execution_count": 9,
   "metadata": {},
   "outputs": [
    {
     "name": "stdout",
     "output_type": "stream",
     "text": [
      "Epoch 1/5\n"
     ]
    },
    {
     "name": "stderr",
     "output_type": "stream",
     "text": [
      "WARNING: All log messages before absl::InitializeLog() is called are written to STDERR\n",
      "I0000 00:00:1734456782.974306   24615 service.cc:148] XLA service 0x7faa18015780 initialized for platform CUDA (this does not guarantee that XLA will be used). Devices:\n",
      "I0000 00:00:1734456782.974422   24615 service.cc:156]   StreamExecutor device (0): NVIDIA GeForce RTX 4070 Laptop GPU, Compute Capability 8.9\n",
      "2024-12-17 11:33:03.029265: I tensorflow/compiler/mlir/tensorflow/utils/dump_mlir_util.cc:268] disabling MLIR crash reproducer, set env var `MLIR_CRASH_REPRODUCER_DIRECTORY` to enable.\n",
      "I0000 00:00:1734456783.300863   24615 cuda_dnn.cc:529] Loaded cuDNN version 90300\n"
     ]
    },
    {
     "name": "stdout",
     "output_type": "stream",
     "text": [
      "\u001b[1m  1/391\u001b[0m \u001b[37m━━━━━━━━━━━━━━━━━━━━\u001b[0m \u001b[1m23:11\u001b[0m 4s/step - accuracy: 0.5781 - loss: 0.6802"
     ]
    },
    {
     "name": "stderr",
     "output_type": "stream",
     "text": [
      "I0000 00:00:1734456784.319691   24615 device_compiler.h:188] Compiled cluster using XLA!  This line is logged at most once for the lifetime of the process.\n"
     ]
    },
    {
     "name": "stdout",
     "output_type": "stream",
     "text": [
      "\u001b[1m391/391\u001b[0m \u001b[32m━━━━━━━━━━━━━━━━━━━━\u001b[0m\u001b[37m\u001b[0m \u001b[1m20s\u001b[0m 42ms/step - accuracy: 0.5049 - loss: 0.6958 - val_accuracy: 0.5121 - val_loss: 0.6944\n",
      "Epoch 2/5\n",
      "\u001b[1m391/391\u001b[0m \u001b[32m━━━━━━━━━━━━━━━━━━━━\u001b[0m\u001b[37m\u001b[0m \u001b[1m11s\u001b[0m 27ms/step - accuracy: 0.6316 - loss: 0.6500 - val_accuracy: 0.5042 - val_loss: 0.8607\n",
      "Epoch 3/5\n",
      "\u001b[1m391/391\u001b[0m \u001b[32m━━━━━━━━━━━━━━━━━━━━\u001b[0m\u001b[37m\u001b[0m \u001b[1m11s\u001b[0m 29ms/step - accuracy: 0.6638 - loss: 0.6175 - val_accuracy: 0.5682 - val_loss: 0.7367\n",
      "Epoch 4/5\n",
      "\u001b[1m391/391\u001b[0m \u001b[32m━━━━━━━━━━━━━━━━━━━━\u001b[0m\u001b[37m\u001b[0m \u001b[1m13s\u001b[0m 34ms/step - accuracy: 0.8055 - loss: 0.4207 - val_accuracy: 0.6572 - val_loss: 0.6919\n",
      "Epoch 5/5\n",
      "\u001b[1m391/391\u001b[0m \u001b[32m━━━━━━━━━━━━━━━━━━━━\u001b[0m\u001b[37m\u001b[0m \u001b[1m10s\u001b[0m 26ms/step - accuracy: 0.9046 - loss: 0.2285 - val_accuracy: 0.6278 - val_loss: 0.8898\n"
     ]
    }
   ],
   "source": [
    "# Train the model\n",
    "batch_size = 64\n",
    "epochs = 5\n",
    "\n",
    "history = model.fit(X_train, y_train, \n",
    "                    validation_data=(X_test, y_test), \n",
    "                    batch_size=batch_size, \n",
    "                    epochs=epochs)"
   ]
  },
  {
   "cell_type": "markdown",
   "metadata": {},
   "source": [
    "Evaluate the model "
   ]
  },
  {
   "cell_type": "code",
   "execution_count": 10,
   "metadata": {},
   "outputs": [],
   "source": [
    "# Evaluate on test data (this is actually printed about above, so not really necessary to run here)\n",
    "# loss, accuracy = model.evaluate(X_test, y_test)\n",
    "# print(f\"Test Accuracy: {accuracy * 100:.2f}%\")\n"
   ]
  },
  {
   "cell_type": "code",
   "execution_count": 11,
   "metadata": {},
   "outputs": [],
   "source": [
    "def make_plots(history):\n",
    "    # plot the loss and accuracy curves\n",
    "    f, ax = plt.subplots(1, 2, figsize=(12,5))\n",
    "\n",
    "    ax[0].plot(history.history['loss'], label = 'training')\n",
    "    ax[0].plot(history.history['val_loss'], label = 'validation')\n",
    "    ax[0].set_yscale('log')\n",
    "    ax[0].set_xlabel('Epoch')\n",
    "    ax[0].set_ylabel('Loss')\n",
    "    ax[0].legend()\n",
    "\n",
    "    ax[1].plot(history.history['accuracy'], label = 'training')\n",
    "    ax[1].plot(history.history['val_accuracy'], label = 'validation')\n",
    "    ax[1].set_yscale('log')\n",
    "    ax[1].set_xlabel('Epoch')\n",
    "    ax[1].set_ylabel('Accuracy')\n",
    "    ax[1].legend()\n",
    "\n",
    "    plt.subplots_adjust(wspace=0.3)\n",
    "\n",
    "    return f, ax"
   ]
  },
  {
   "cell_type": "code",
   "execution_count": 12,
   "metadata": {},
   "outputs": [
    {
     "data": {
      "text/plain": [
       "(<Figure size 1200x500 with 2 Axes>,\n",
       " array([<Axes: xlabel='Epoch', ylabel='Loss'>,\n",
       "        <Axes: xlabel='Epoch', ylabel='Accuracy'>], dtype=object))"
      ]
     },
     "execution_count": 12,
     "metadata": {},
     "output_type": "execute_result"
    },
    {
     "data": {
      "image/png": "[encoded data removed]",
      "text/plain": [
       "<Figure size 1200x500 with 2 Axes>"
      ]
     },
     "metadata": {},
     "output_type": "display_data"
    }
   ],
   "source": [
    "make_plots(history)"
   ]
  },
  {
   "cell_type": "markdown",
   "metadata": {},
   "source": [
    "Make predictions"
   ]
  },
  {
   "cell_type": "code",
   "execution_count": 13,
   "metadata": {},
   "outputs": [
    {
     "name": "stdout",
     "output_type": "stream",
     "text": [
      "\u001b[1m782/782\u001b[0m \u001b[32m━━━━━━━━━━━━━━━━━━━━\u001b[0m\u001b[37m\u001b[0m \u001b[1m8s\u001b[0m 10ms/step\n",
      "First 10 predictions: [1 1 1 0 1 0 0 1 1 1]\n",
      "Actual labels: [0 1 1 0 1 1 1 0 0 1]\n"
     ]
    }
   ],
   "source": [
    "# Predict sentiment for a few test samples\n",
    "predictions = (model.predict(X_test) > 0.5).astype(\"int32\")\n",
    "\n",
    "# Compare with actual labels\n",
    "print(f\"First 10 predictions: {predictions[:10].ravel()}\")\n",
    "print(f\"Actual labels: {y_test[:10]}\")"
   ]
  },
  {
   "cell_type": "code",
   "execution_count": 14,
   "metadata": {},
   "outputs": [
    {
     "name": "stdout",
     "output_type": "stream",
     "text": [
      "0 [1]\n",
      "<START> please give this one a miss br br <UNK> <UNK> and the rest of the cast rendered terrible performances the show is flat flat flat br br i don't know how michael madison could have allowed this one on his plate he almost seemed to know this wasn't going to work out and his performance was quite <UNK> so all you madison fans give this a miss <PAD> <PAD> <PAD> <PAD> <PAD> <PAD> <PAD> <PAD> <PAD> <PAD> <PAD> <PAD> <PAD> <PAD> <PAD> <PAD> <PAD> <PAD> <PAD> <PAD> <PAD> <PAD> <PAD> <PAD> <PAD> <PAD> <PAD> <PAD> <PAD> <PAD> <PAD> <PAD>\n"
     ]
    }
   ],
   "source": [
    "index_test = 0\n",
    "print(y_test[index_test],predictions[index_test])\n",
    "print(decode_review(X_test[index_test]))\n"
   ]
  },
  {
   "cell_type": "markdown",
   "metadata": {},
   "source": [
    "## Try LSTM"
   ]
  },
  {
   "cell_type": "code",
   "execution_count": 15,
   "metadata": {},
   "outputs": [
    {
     "data": {
      "text/html": [
       "<pre style=\"white-space:pre;overflow-x:auto;line-height:normal;font-family:Menlo,'DejaVu Sans Mono',consolas,'Courier New',monospace\"><span style=\"font-weight: bold\">Model: \"sequential_1\"</span>\n",
       "</pre>\n"
      ],
      "text/plain": [
       "\u001b[1mModel: \"sequential_1\"\u001b[0m\n"
      ]
     },
     "metadata": {},
     "output_type": "display_data"
    },
    {
     "data": {
      "text/html": [
       "<pre style=\"white-space:pre;overflow-x:auto;line-height:normal;font-family:Menlo,'DejaVu Sans Mono',consolas,'Courier New',monospace\">┏━━━━━━━━━━━━━━━━━━━━━━━━━━━━━━━━━┳━━━━━━━━━━━━━━━━━━━━━━━━┳━━━━━━━━━━━━━━━┓\n",
       "┃<span style=\"font-weight: bold\"> Layer (type)                    </span>┃<span style=\"font-weight: bold\"> Output Shape           </span>┃<span style=\"font-weight: bold\">       Param # </span>┃\n",
       "┡━━━━━━━━━━━━━━━━━━━━━━━━━━━━━━━━━╇━━━━━━━━━━━━━━━━━━━━━━━━╇━━━━━━━━━━━━━━━┩\n",
       "│ embedding_1 (<span style=\"color: #0087ff; text-decoration-color: #0087ff\">Embedding</span>)         │ ?                      │   <span style=\"color: #00af00; text-decoration-color: #00af00\">0</span> (unbuilt) │\n",
       "├─────────────────────────────────┼────────────────────────┼───────────────┤\n",
       "│ lstm (<span style=\"color: #0087ff; text-decoration-color: #0087ff\">LSTM</span>)                     │ ?                      │   <span style=\"color: #00af00; text-decoration-color: #00af00\">0</span> (unbuilt) │\n",
       "├─────────────────────────────────┼────────────────────────┼───────────────┤\n",
       "│ dense_1 (<span style=\"color: #0087ff; text-decoration-color: #0087ff\">Dense</span>)                 │ ?                      │   <span style=\"color: #00af00; text-decoration-color: #00af00\">0</span> (unbuilt) │\n",
       "└─────────────────────────────────┴────────────────────────┴───────────────┘\n",
       "</pre>\n"
      ],
      "text/plain": [
       "┏━━━━━━━━━━━━━━━━━━━━━━━━━━━━━━━━━┳━━━━━━━━━━━━━━━━━━━━━━━━┳━━━━━━━━━━━━━━━┓\n",
       "┃\u001b[1m \u001b[0m\u001b[1mLayer (type)                   \u001b[0m\u001b[1m \u001b[0m┃\u001b[1m \u001b[0m\u001b[1mOutput Shape          \u001b[0m\u001b[1m \u001b[0m┃\u001b[1m \u001b[0m\u001b[1m      Param #\u001b[0m\u001b[1m \u001b[0m┃\n",
       "┡━━━━━━━━━━━━━━━━━━━━━━━━━━━━━━━━━╇━━━━━━━━━━━━━━━━━━━━━━━━╇━━━━━━━━━━━━━━━┩\n",
       "│ embedding_1 (\u001b[38;5;33mEmbedding\u001b[0m)         │ ?                      │   \u001b[38;5;34m0\u001b[0m (unbuilt) │\n",
       "├─────────────────────────────────┼────────────────────────┼───────────────┤\n",
       "│ lstm (\u001b[38;5;33mLSTM\u001b[0m)                     │ ?                      │   \u001b[38;5;34m0\u001b[0m (unbuilt) │\n",
       "├─────────────────────────────────┼────────────────────────┼───────────────┤\n",
       "│ dense_1 (\u001b[38;5;33mDense\u001b[0m)                 │ ?                      │   \u001b[38;5;34m0\u001b[0m (unbuilt) │\n",
       "└─────────────────────────────────┴────────────────────────┴───────────────┘\n"
      ]
     },
     "metadata": {},
     "output_type": "display_data"
    },
    {
     "data": {
      "text/html": [
       "<pre style=\"white-space:pre;overflow-x:auto;line-height:normal;font-family:Menlo,'DejaVu Sans Mono',consolas,'Courier New',monospace\"><span style=\"font-weight: bold\"> Total params: </span><span style=\"color: #00af00; text-decoration-color: #00af00\">0</span> (0.00 B)\n",
       "</pre>\n"
      ],
      "text/plain": [
       "\u001b[1m Total params: \u001b[0m\u001b[38;5;34m0\u001b[0m (0.00 B)\n"
      ]
     },
     "metadata": {},
     "output_type": "display_data"
    },
    {
     "data": {
      "text/html": [
       "<pre style=\"white-space:pre;overflow-x:auto;line-height:normal;font-family:Menlo,'DejaVu Sans Mono',consolas,'Courier New',monospace\"><span style=\"font-weight: bold\"> Trainable params: </span><span style=\"color: #00af00; text-decoration-color: #00af00\">0</span> (0.00 B)\n",
       "</pre>\n"
      ],
      "text/plain": [
       "\u001b[1m Trainable params: \u001b[0m\u001b[38;5;34m0\u001b[0m (0.00 B)\n"
      ]
     },
     "metadata": {},
     "output_type": "display_data"
    },
    {
     "data": {
      "text/html": [
       "<pre style=\"white-space:pre;overflow-x:auto;line-height:normal;font-family:Menlo,'DejaVu Sans Mono',consolas,'Courier New',monospace\"><span style=\"font-weight: bold\"> Non-trainable params: </span><span style=\"color: #00af00; text-decoration-color: #00af00\">0</span> (0.00 B)\n",
       "</pre>\n"
      ],
      "text/plain": [
       "\u001b[1m Non-trainable params: \u001b[0m\u001b[38;5;34m0\u001b[0m (0.00 B)\n"
      ]
     },
     "metadata": {},
     "output_type": "display_data"
    }
   ],
   "source": [
    "model = Sequential([\n",
    "    Embedding(input_dim=vocab_size, output_dim=embedding_dim, input_length=max_length),\n",
    "    LSTM(64, return_sequences=False),  # LSTM layer\n",
    "    Dense(1, activation='sigmoid')     # Output layer\n",
    "])\n",
    "\n",
    "# Compile the model\n",
    "model.compile(optimizer='adam', loss='binary_crossentropy', metrics=['accuracy'])\n",
    "\n",
    "# Model summary\n",
    "model.summary()"
   ]
  },
  {
   "cell_type": "code",
   "execution_count": 16,
   "metadata": {},
   "outputs": [
    {
     "name": "stdout",
     "output_type": "stream",
     "text": [
      "Epoch 1/5\n"
     ]
    },
    {
     "name": "stdout",
     "output_type": "stream",
     "text": [
      "\u001b[1m391/391\u001b[0m \u001b[32m━━━━━━━━━━━━━━━━━━━━\u001b[0m\u001b[37m\u001b[0m \u001b[1m21s\u001b[0m 45ms/step - accuracy: 0.6225 - loss: 0.6115 - val_accuracy: 0.8041 - val_loss: 0.4332\n",
      "Epoch 2/5\n",
      "\u001b[1m391/391\u001b[0m \u001b[32m━━━━━━━━━━━━━━━━━━━━\u001b[0m\u001b[37m\u001b[0m \u001b[1m24s\u001b[0m 61ms/step - accuracy: 0.8644 - loss: 0.3348 - val_accuracy: 0.8134 - val_loss: 0.4277\n",
      "Epoch 3/5\n",
      "\u001b[1m391/391\u001b[0m \u001b[32m━━━━━━━━━━━━━━━━━━━━\u001b[0m\u001b[37m\u001b[0m \u001b[1m25s\u001b[0m 65ms/step - accuracy: 0.8724 - loss: 0.3209 - val_accuracy: 0.7746 - val_loss: 0.8054\n",
      "Epoch 4/5\n",
      "\u001b[1m391/391\u001b[0m \u001b[32m━━━━━━━━━━━━━━━━━━━━\u001b[0m\u001b[37m\u001b[0m \u001b[1m26s\u001b[0m 66ms/step - accuracy: 0.5737 - loss: 0.8098 - val_accuracy: 0.5604 - val_loss: 0.6758\n",
      "Epoch 5/5\n",
      "\u001b[1m391/391\u001b[0m \u001b[32m━━━━━━━━━━━━━━━━━━━━\u001b[0m\u001b[37m\u001b[0m \u001b[1m28s\u001b[0m 70ms/step - accuracy: 0.7202 - loss: 0.5502 - val_accuracy: 0.7941 - val_loss: 0.4673\n"
     ]
    }
   ],
   "source": [
    "history = model.fit(X_train, y_train, \n",
    "                    validation_data=(X_test, y_test), \n",
    "                    batch_size=batch_size, \n",
    "                    epochs=epochs)"
   ]
  },
  {
   "cell_type": "code",
   "execution_count": 17,
   "metadata": {},
   "outputs": [
    {
     "data": {
      "image/png": "[encoded data removed]",
      "text/plain": [
       "<Figure size 1200x500 with 2 Axes>"
      ]
     },
     "metadata": {},
     "output_type": "display_data"
    }
   ],
   "source": [
    "f,ax = make_plots(history)"
   ]
  },
  {
   "cell_type": "code",
   "execution_count": 18,
   "metadata": {},
   "outputs": [
    {
     "name": "stdout",
     "output_type": "stream",
     "text": [
      "\u001b[1m782/782\u001b[0m \u001b[32m━━━━━━━━━━━━━━━━━━━━\u001b[0m\u001b[37m\u001b[0m \u001b[1m11s\u001b[0m 14ms/step\n",
      "First 10 predictions: [0 1 1 0 1 0 0 1 1 0]\n",
      "Actual labels: [0 1 1 0 1 1 1 0 0 1]\n"
     ]
    }
   ],
   "source": [
    "# Predict sentiment for a few test samples\n",
    "predictions = (model.predict(X_test) > 0.5).astype(\"int32\")\n",
    "\n",
    "# Compare with actual labels\n",
    "print(f\"First 10 predictions: {predictions[:10].ravel()}\")\n",
    "print(f\"Actual labels: {y_test[:10]}\")"
   ]
  },
  {
   "cell_type": "code",
   "execution_count": 19,
   "metadata": {},
   "outputs": [
    {
     "name": "stdout",
     "output_type": "stream",
     "text": [
      "1 [0]\n",
      "<START> i'm absolutely disgusted this movie isn't being sold all who love this movie should email disney and increase the demand for it they'd eventually have to sell it then i'd buy copies for everybody i know everything and everybody in this movie did a good job and i haven't figured out why disney hasn't put this movie on dvd or on vhs in rental stores at least i haven't seen any copies this is a wicked good movie and should be seen by all the kids in the new generation don't get to see it and i think they\n"
     ]
    }
   ],
   "source": [
    "index_test = 5\n",
    "print(y_test[index_test],predictions[index_test])\n",
    "print(decode_review(X_test[index_test]))"
   ]
  },
  {
   "cell_type": "markdown",
   "metadata": {},
   "source": [
    "## Try GRU"
   ]
  },
  {
   "cell_type": "code",
   "execution_count": 20,
   "metadata": {},
   "outputs": [
    {
     "data": {
      "text/html": [
       "<pre style=\"white-space:pre;overflow-x:auto;line-height:normal;font-family:Menlo,'DejaVu Sans Mono',consolas,'Courier New',monospace\"><span style=\"font-weight: bold\">Model: \"sequential_2\"</span>\n",
       "</pre>\n"
      ],
      "text/plain": [
       "\u001b[1mModel: \"sequential_2\"\u001b[0m\n"
      ]
     },
     "metadata": {},
     "output_type": "display_data"
    },
    {
     "data": {
      "text/html": [
       "<pre style=\"white-space:pre;overflow-x:auto;line-height:normal;font-family:Menlo,'DejaVu Sans Mono',consolas,'Courier New',monospace\">┏━━━━━━━━━━━━━━━━━━━━━━━━━━━━━━━━━┳━━━━━━━━━━━━━━━━━━━━━━━━┳━━━━━━━━━━━━━━━┓\n",
       "┃<span style=\"font-weight: bold\"> Layer (type)                    </span>┃<span style=\"font-weight: bold\"> Output Shape           </span>┃<span style=\"font-weight: bold\">       Param # </span>┃\n",
       "┡━━━━━━━━━━━━━━━━━━━━━━━━━━━━━━━━━╇━━━━━━━━━━━━━━━━━━━━━━━━╇━━━━━━━━━━━━━━━┩\n",
       "│ embedding_2 (<span style=\"color: #0087ff; text-decoration-color: #0087ff\">Embedding</span>)         │ ?                      │   <span style=\"color: #00af00; text-decoration-color: #00af00\">0</span> (unbuilt) │\n",
       "├─────────────────────────────────┼────────────────────────┼───────────────┤\n",
       "│ gru (<span style=\"color: #0087ff; text-decoration-color: #0087ff\">GRU</span>)                       │ ?                      │   <span style=\"color: #00af00; text-decoration-color: #00af00\">0</span> (unbuilt) │\n",
       "├─────────────────────────────────┼────────────────────────┼───────────────┤\n",
       "│ dense_2 (<span style=\"color: #0087ff; text-decoration-color: #0087ff\">Dense</span>)                 │ ?                      │   <span style=\"color: #00af00; text-decoration-color: #00af00\">0</span> (unbuilt) │\n",
       "└─────────────────────────────────┴────────────────────────┴───────────────┘\n",
       "</pre>\n"
      ],
      "text/plain": [
       "┏━━━━━━━━━━━━━━━━━━━━━━━━━━━━━━━━━┳━━━━━━━━━━━━━━━━━━━━━━━━┳━━━━━━━━━━━━━━━┓\n",
       "┃\u001b[1m \u001b[0m\u001b[1mLayer (type)                   \u001b[0m\u001b[1m \u001b[0m┃\u001b[1m \u001b[0m\u001b[1mOutput Shape          \u001b[0m\u001b[1m \u001b[0m┃\u001b[1m \u001b[0m\u001b[1m      Param #\u001b[0m\u001b[1m \u001b[0m┃\n",
       "┡━━━━━━━━━━━━━━━━━━━━━━━━━━━━━━━━━╇━━━━━━━━━━━━━━━━━━━━━━━━╇━━━━━━━━━━━━━━━┩\n",
       "│ embedding_2 (\u001b[38;5;33mEmbedding\u001b[0m)         │ ?                      │   \u001b[38;5;34m0\u001b[0m (unbuilt) │\n",
       "├─────────────────────────────────┼────────────────────────┼───────────────┤\n",
       "│ gru (\u001b[38;5;33mGRU\u001b[0m)                       │ ?                      │   \u001b[38;5;34m0\u001b[0m (unbuilt) │\n",
       "├─────────────────────────────────┼────────────────────────┼───────────────┤\n",
       "│ dense_2 (\u001b[38;5;33mDense\u001b[0m)                 │ ?                      │   \u001b[38;5;34m0\u001b[0m (unbuilt) │\n",
       "└─────────────────────────────────┴────────────────────────┴───────────────┘\n"
      ]
     },
     "metadata": {},
     "output_type": "display_data"
    },
    {
     "data": {
      "text/html": [
       "<pre style=\"white-space:pre;overflow-x:auto;line-height:normal;font-family:Menlo,'DejaVu Sans Mono',consolas,'Courier New',monospace\"><span style=\"font-weight: bold\"> Total params: </span><span style=\"color: #00af00; text-decoration-color: #00af00\">0</span> (0.00 B)\n",
       "</pre>\n"
      ],
      "text/plain": [
       "\u001b[1m Total params: \u001b[0m\u001b[38;5;34m0\u001b[0m (0.00 B)\n"
      ]
     },
     "metadata": {},
     "output_type": "display_data"
    },
    {
     "data": {
      "text/html": [
       "<pre style=\"white-space:pre;overflow-x:auto;line-height:normal;font-family:Menlo,'DejaVu Sans Mono',consolas,'Courier New',monospace\"><span style=\"font-weight: bold\"> Trainable params: </span><span style=\"color: #00af00; text-decoration-color: #00af00\">0</span> (0.00 B)\n",
       "</pre>\n"
      ],
      "text/plain": [
       "\u001b[1m Trainable params: \u001b[0m\u001b[38;5;34m0\u001b[0m (0.00 B)\n"
      ]
     },
     "metadata": {},
     "output_type": "display_data"
    },
    {
     "data": {
      "text/html": [
       "<pre style=\"white-space:pre;overflow-x:auto;line-height:normal;font-family:Menlo,'DejaVu Sans Mono',consolas,'Courier New',monospace\"><span style=\"font-weight: bold\"> Non-trainable params: </span><span style=\"color: #00af00; text-decoration-color: #00af00\">0</span> (0.00 B)\n",
       "</pre>\n"
      ],
      "text/plain": [
       "\u001b[1m Non-trainable params: \u001b[0m\u001b[38;5;34m0\u001b[0m (0.00 B)\n"
      ]
     },
     "metadata": {},
     "output_type": "display_data"
    }
   ],
   "source": [
    "model = Sequential([\n",
    "    Embedding(input_dim=vocab_size, output_dim=embedding_dim, input_length=max_length),\n",
    "    GRU(64, return_sequences=False),   # GRU layer\n",
    "    Dense(1, activation='sigmoid')     # Output layer\n",
    "])\n",
    "\n",
    "# Compile the model\n",
    "model.compile(optimizer='adam', loss='binary_crossentropy', metrics=['accuracy'])\n",
    "\n",
    "# Model summary\n",
    "model.summary()"
   ]
  },
  {
   "cell_type": "code",
   "execution_count": 21,
   "metadata": {},
   "outputs": [
    {
     "name": "stdout",
     "output_type": "stream",
     "text": [
      "Epoch 1/5\n"
     ]
    },
    {
     "name": "stdout",
     "output_type": "stream",
     "text": [
      "\u001b[1m391/391\u001b[0m \u001b[32m━━━━━━━━━━━━━━━━━━━━\u001b[0m\u001b[37m\u001b[0m \u001b[1m31s\u001b[0m 71ms/step - accuracy: 0.5715 - loss: 0.6522 - val_accuracy: 0.7922 - val_loss: 0.4642\n",
      "Epoch 2/5\n",
      "\u001b[1m391/391\u001b[0m \u001b[32m━━━━━━━━━━━━━━━━━━━━\u001b[0m\u001b[37m\u001b[0m \u001b[1m8s\u001b[0m 20ms/step - accuracy: 0.8513 - loss: 0.3670 - val_accuracy: 0.8088 - val_loss: 0.4230\n",
      "Epoch 3/5\n",
      "\u001b[1m391/391\u001b[0m \u001b[32m━━━━━━━━━━━━━━━━━━━━\u001b[0m\u001b[37m\u001b[0m \u001b[1m9s\u001b[0m 24ms/step - accuracy: 0.8998 - loss: 0.2633 - val_accuracy: 0.8194 - val_loss: 0.4387\n",
      "Epoch 4/5\n",
      "\u001b[1m391/391\u001b[0m \u001b[32m━━━━━━━━━━━━━━━━━━━━\u001b[0m\u001b[37m\u001b[0m \u001b[1m7s\u001b[0m 17ms/step - accuracy: 0.9257 - loss: 0.2072 - val_accuracy: 0.8096 - val_loss: 0.4799\n",
      "Epoch 5/5\n",
      "\u001b[1m391/391\u001b[0m \u001b[32m━━━━━━━━━━━━━━━━━━━━\u001b[0m\u001b[37m\u001b[0m \u001b[1m6s\u001b[0m 16ms/step - accuracy: 0.9515 - loss: 0.1429 - val_accuracy: 0.8016 - val_loss: 0.5122\n"
     ]
    }
   ],
   "source": [
    "history = model.fit(X_train, y_train, \n",
    "                    validation_data=(X_test, y_test), \n",
    "                    batch_size=batch_size, \n",
    "                    epochs=epochs)"
   ]
  },
  {
   "cell_type": "code",
   "execution_count": 22,
   "metadata": {},
   "outputs": [
    {
     "data": {
      "image/png": "[encoded data removed]",
      "text/plain": [
       "<Figure size 1200x500 with 2 Axes>"
      ]
     },
     "metadata": {},
     "output_type": "display_data"
    }
   ],
   "source": [
    "f,ax = make_plots(history)"
   ]
  },
  {
   "cell_type": "code",
   "execution_count": 23,
   "metadata": {},
   "outputs": [
    {
     "name": "stdout",
     "output_type": "stream",
     "text": [
      "\u001b[1m782/782\u001b[0m \u001b[32m━━━━━━━━━━━━━━━━━━━━\u001b[0m\u001b[37m\u001b[0m \u001b[1m3s\u001b[0m 4ms/step\n",
      "\u001b[1m782/782\u001b[0m \u001b[32m━━━━━━━━━━━━━━━━━━━━\u001b[0m\u001b[37m\u001b[0m \u001b[1m3s\u001b[0m 4ms/step\n",
      "First 10 raw predictions: [0.01428703 0.9804331  0.6371505  0.01615412 0.95689833 0.07762287\n",
      " 0.72925866 0.94504887 0.98144734 0.17282753]\n",
      "First 10 predictions: [0 1 1 0 1 0 1 1 1 0]\n",
      "Actual labels: [0 1 1 0 1 1 1 0 0 1]\n"
     ]
    }
   ],
   "source": [
    "# Predict sentiment for a few test samples\n",
    "predictions = (model.predict(X_test) > 0.5).astype(\"int32\")\n",
    "predictions_raw = model.predict(X_test)\n",
    "\n",
    "# Compare with actual labels\n",
    "print(f\"First 10 raw predictions: {predictions_raw[:10].ravel()}\")\n",
    "print(f\"First 10 predictions: {predictions[:10].ravel()}\")\n",
    "print(f\"Actual labels: {y_test[:10]}\")"
   ]
  },
  {
   "cell_type": "code",
   "execution_count": 24,
   "metadata": {},
   "outputs": [
    {
     "name": "stdout",
     "output_type": "stream",
     "text": [
      "1 [0]\n",
      "<START> this film is where the batman franchise ought to have stopped though i will <UNK> that the ideas behind batman forever were excellent and could have been easily realised by a competent director as it turned out this was not to be the case br br apparently warner brothers executives were disappointed with how dark this second batman film from tim burton turned out apart from the idiocy of expecting anything else from burton and the conservative <UNK> of their subsequent decision to turn the franchise into an homage to the sixties tv series i fail to understand how\n"
     ]
    }
   ],
   "source": [
    "index_test = 9\n",
    "print(y_test[index_test],predictions[index_test])\n",
    "print(decode_review(X_test[index_test]))"
   ]
  },
  {
   "cell_type": "markdown",
   "metadata": {},
   "source": [
    "## Information from ChatGPT on fine tuning RNN/LSTM/GRU models:\n",
    "\n",
    "**Fine-tuning** in machine learning refers to the process of **adjusting hyperparameters** and model settings to achieve better performance. It is an iterative process where you experiment with various parameters to improve accuracy, generalization, and efficiency.\n",
    "\n",
    "---\n",
    "\n",
    "### **Fine-Tuning Parameters in an RNN/GRU/LSTM**\n",
    "\n",
    "Here are the most common parameters you can adjust for fine-tuning your sequential model:\n",
    "\n",
    "1. **Batch Size**:\n",
    "   - Smaller batch sizes (e.g., 16 or 32) result in noisier updates and longer training but can generalize better.\n",
    "   - Larger batch sizes (e.g., 64 or 128) are computationally faster but may generalize worse.\n",
    "   - **Experiment**: Try batch sizes of 16, 32, and 64 to see their effects.\n",
    "\n",
    "2. **Epochs**:\n",
    "   - Too few epochs: Underfitting.\n",
    "   - Too many epochs: Overfitting.\n",
    "   - Use **early stopping** to monitor the validation loss and stop training when it stops improving.\n",
    "   - **Experiment**: Start with 10-20 epochs and monitor performance.\n",
    "\n",
    "3. **Learning Rate**:\n",
    "   - Controls the step size during optimization.\n",
    "   - A learning rate that is **too high** causes the model to overshoot minima, while a rate that is **too low** makes training slow or stuck.\n",
    "   - Use a **learning rate scheduler** or adjust it manually:\n",
    "     ```python\n",
    "     from tensorflow.keras.optimizers import Adam\n",
    "     optimizer = Adam(learning_rate=0.001)  # Default LR = 0.001\n",
    "     ```\n",
    "\n",
    "4. **Optimizer**:\n",
    "   - Different optimizers affect the convergence of your model. Popular choices include:\n",
    "     - `Adam` (default for many models) – adaptive and fast.\n",
    "     - `RMSprop` – often used for RNNs and LSTMs.\n",
    "     - `SGD` with momentum – slower but can be stable in some cases.\n",
    "   - **Experiment**: Compare `Adam` and `RMSprop`.\n",
    "\n",
    "5. **Dropout Rate**:\n",
    "   - Prevents overfitting by randomly \"dropping out\" neurons during training.\n",
    "   - For recurrent models, **recurrent dropout** is also available.\n",
    "   - **Example**:\n",
    "     ```python\n",
    "     from tensorflow.keras.layers import LSTM\n",
    "     LSTM(128, dropout=0.2, recurrent_dropout=0.2)\n",
    "     ```\n",
    "   - **Experiment**: Start with 0.2 and adjust to 0.1–0.5.\n",
    "\n",
    "6. **Number of Units (Neurons)**:\n",
    "   - Increasing the number of hidden units in RNN/GRU/LSTM layers allows the model to learn more complex patterns.\n",
    "   - However, more units increase computation time and the risk of overfitting.\n",
    "   - **Experiment**: Use 64, 128, or 256 units and evaluate the results.\n",
    "\n",
    "7. **Layer Depth**:\n",
    "   - Adding more layers (stacked RNN/GRU/LSTM) can help learn hierarchical patterns but increases the model's complexity.\n",
    "   - Example:\n",
    "     ```python\n",
    "     model.add(LSTM(128, return_sequences=True))  # First LSTM layer\n",
    "     model.add(LSTM(64))                         # Second LSTM layer\n",
    "     ```\n",
    "\n",
    "8. **Sequence Length** (Padding/Trimming):\n",
    "   - The maximum sequence length affects how much of the input data the model processes.\n",
    "   - Longer sequences may improve performance but slow down training.\n",
    "   - **Experiment**: Adjust the sequence length during `pad_sequences`:\n",
    "     ```python\n",
    "     from tensorflow.keras.preprocessing.sequence import pad_sequences\n",
    "     X_train = pad_sequences(X_train, maxlen=200)  # Limit to 200 words\n",
    "     ```\n",
    "\n",
    "9. **Regularization**:\n",
    "   - Add L1/L2 penalties to prevent overfitting.\n",
    "   - **Example**:\n",
    "     ```python\n",
    "     from tensorflow.keras.regularizers import l2\n",
    "     LSTM(128, kernel_regularizer=l2(0.01))\n",
    "     ```\n",
    "\n",
    "10. **Activation Functions**:\n",
    "    - RNNs/GRUs/LSTMs use `tanh` and `sigmoid` internally, but you can experiment with the activation functions for dense layers:\n",
    "      ```python\n",
    "      model.add(Dense(1, activation='sigmoid'))  # Binary classification\n",
    "      ```\n",
    "\n",
    "---\n",
    "\n",
    "### **What to Try for Fine-Tuning?**\n",
    "\n",
    "Start with the following strategy:\n",
    "\n",
    "1. **Baseline Model**:\n",
    "   - Build a simple model using default parameters (e.g., LSTM with 128 units, batch size 32, 10 epochs).\n",
    "   - Evaluate performance (training/validation accuracy and loss).\n",
    "\n",
    "2. **Learning Rate Adjustment**:\n",
    "   - Lower the learning rate (e.g., 0.0005) if the model is not converging.\n",
    "   - Increase it (e.g., 0.005) if the model is learning too slowly.\n",
    "\n",
    "3. **Dropout Regularization**:\n",
    "   - Introduce dropout (e.g., 0.2) to prevent overfitting.\n",
    "\n",
    "4. **Batch Size Tuning**:\n",
    "   - Compare results for batch sizes 16, 32, and 64.\n",
    "\n",
    "5. **Number of Units and Layer Depth**:\n",
    "   - Increase hidden units (128 → 256) and test adding a second RNN/GRU/LSTM layer.\n",
    "\n",
    "6. **Early Stopping**:\n",
    "   - Monitor validation loss to stop training when overfitting begins.\n",
    "\n",
    "---\n",
    "\n",
    "### **Code Example for Fine-Tuning**\n",
    "\n",
    "Here’s an updated model with some fine-tuning parameters:\n",
    "\n",
    "```python\n",
    "from tensorflow.keras.models import Sequential\n",
    "from tensorflow.keras.layers import LSTM, Dense, Dropout\n",
    "from tensorflow.keras.optimizers import Adam\n",
    "\n",
    "# Build the model\n",
    "model = Sequential()\n",
    "model.add(LSTM(128, return_sequences=True, dropout=0.2, recurrent_dropout=0.2, input_shape=(200, 1)))\n",
    "model.add(LSTM(64, dropout=0.2, recurrent_dropout=0.2))\n",
    "model.add(Dense(1, activation='sigmoid'))\n",
    "\n",
    "# Compile the model with a lower learning rate\n",
    "optimizer = Adam(learning_rate=0.0005)\n",
    "model.compile(optimizer=optimizer, loss='binary_crossentropy', metrics=['accuracy'])\n",
    "\n",
    "# Train the model with early stopping\n",
    "from tensorflow.keras.callbacks import EarlyStopping\n",
    "\n",
    "early_stopping = EarlyStopping(monitor='val_loss', patience=3, restore_best_weights=True)\n",
    "\n",
    "history = model.fit(X_train, y_train, \n",
    "                    validation_data=(X_val, y_val),\n",
    "                    batch_size=32, \n",
    "                    epochs=20, \n",
    "                    callbacks=[early_stopping])\n",
    "```\n",
    "\n",
    "---\n",
    "\n",
    "### **Summary Recommendations**:\n",
    "1. Start with default hyperparameters (e.g., batch size 32, learning rate 0.001, dropout 0.2).\n",
    "2. Fine-tune by:\n",
    "   - Adjusting **batch size** and **epochs**.\n",
    "   - Experimenting with **dropout**, **number of units**, and **learning rate**.\n",
    "   - Adding **early stopping** to prevent overfitting.\n",
    "3. Monitor both training and validation loss/accuracy to evaluate your changes.\n",
    "\n",
    "Fine-tuning is all about experimentation. Change one parameter at a time and observe its effect on performance! 🚀 Let me know if you’d like to analyze model performance metrics further."
   ]
  },
  {
   "cell_type": "markdown",
   "metadata": {},
   "source": [
    "# ChatGPT suggestions for measureing confidence or uncertainty\n",
    "\n",
    "Yes, you can output a measure of **confidence** or **uncertainty** for LSTM, RNN, or GRU models, especially for **classification tasks**. Here’s an overview of approaches to achieve this:\n",
    "\n",
    "---\n",
    "\n",
    "### **1. Use Probabilities as Confidence**\n",
    "If your model uses a **sigmoid activation** (for binary classification) or **softmax activation** (for multi-class classification) in the output layer, the output values can be directly interpreted as probabilities.\n",
    "\n",
    "- **Sigmoid (Binary Classification)**:\n",
    "   The output will be between 0 and 1, where:\n",
    "   - A value close to 1 indicates **high confidence** for class \"1.\"\n",
    "   - A value close to 0 indicates **high confidence** for class \"0.\"\n",
    "\n",
    "- **Softmax (Multi-Class Classification)**:\n",
    "   The output is a probability distribution across all classes. The class with the **highest probability** is the predicted class, and the probability itself can be treated as the confidence score.\n",
    "\n",
    "**Code Example:**\n",
    "```python\n",
    "import numpy as np\n",
    "\n",
    "# Simulated model predictions (binary classification)\n",
    "predictions = model.predict(X_test)  # Outputs probabilities between 0 and 1\n",
    "\n",
    "# Interpret confidence\n",
    "for i, p in enumerate(predictions[:5]):\n",
    "    print(f\"Sample {i}: Predicted Probability = {p[0]:.4f}, Confidence = {max(p[0], 1-p[0]):.4f}\")\n",
    "```\n",
    "\n",
    "For **softmax outputs**:\n",
    "```python\n",
    "predictions = model.predict(X_test)  # Softmax output\n",
    "confidence = np.max(predictions, axis=1)  # Confidence for each sample\n",
    "print(\"Confidence Scores:\", confidence)\n",
    "```\n",
    "\n",
    "---\n",
    "\n",
    "### **2. Monte Carlo Dropout (Bayesian Approximation)**\n",
    "To estimate **uncertainty** in predictions, you can use **Monte Carlo Dropout**. This involves:\n",
    "- Applying **dropout** during both training **and inference** (testing).\n",
    "- Running the model multiple times on the same input and obtaining multiple predictions.\n",
    "- Computing the **mean** and **standard deviation** of the predictions to measure confidence and uncertainty.\n",
    "\n",
    "**Key Idea**: If predictions vary a lot (high standard deviation), the model is uncertain.\n",
    "\n",
    "**Code Example:**\n",
    "```python\n",
    "import tensorflow.keras.backend as K\n",
    "import numpy as np\n",
    "\n",
    "# Define a function to enable dropout during inference\n",
    "f_model = K.function([model.input, K.learning_phase()], [model.output])\n",
    "\n",
    "def monte_carlo_predictions(model, X, num_samples=50):\n",
    "    preds = np.array([f_model([X, 1])[0] for _ in range(num_samples)])\n",
    "    return preds.mean(axis=0), preds.std(axis=0)\n",
    "\n",
    "# Use Monte Carlo dropout for uncertainty estimation\n",
    "num_samples = 50\n",
    "mean_preds, uncertainty = monte_carlo_predictions(model, X_test, num_samples)\n",
    "\n",
    "# Display confidence and uncertainty\n",
    "for i in range(5):\n",
    "    print(f\"Sample {i}: Prediction Mean = {mean_preds[i][0]:.4f}, Uncertainty = {uncertainty[i][0]:.4f}\")\n",
    "```\n",
    "\n",
    "- **`mean_preds`**: Average predictions (confidence scores).\n",
    "- **`uncertainty`**: Standard deviation, which indicates uncertainty.\n",
    "\n",
    "**When to use**: This method is particularly useful when you suspect the model might encounter **ambiguous inputs**.\n",
    "\n",
    "---\n",
    "\n",
    "### **3. Temperature Scaling**\n",
    "**Temperature scaling** is a post-training calibration method to adjust the probabilities predicted by a model. It modifies the softmax probabilities to make them more reflective of confidence.\n",
    "\n",
    "The temperature-scaled softmax is defined as:\n",
    "\\[\n",
    "p_i = \\frac{\\exp(z_i / T)}{\\sum_j \\exp(z_j / T)}\n",
    "\\]\n",
    "Where:\n",
    "- \\( z_i \\) = logits (raw predictions before softmax).\n",
    "- \\( T \\) = temperature (default is 1). Higher \\( T \\) makes probabilities smoother, reducing confidence scores.\n",
    "\n",
    "**Code Example:**\n",
    "```python\n",
    "import numpy as np\n",
    "import tensorflow as tf\n",
    "\n",
    "def temperature_scale(logits, temperature=2.0):\n",
    "    logits_scaled = logits / temperature\n",
    "    return tf.nn.softmax(logits_scaled).numpy()\n",
    "\n",
    "# Example predictions (logits before softmax)\n",
    "logits = np.array([[3.2, 1.5, 0.2]])  # Raw model outputs\n",
    "\n",
    "# Apply temperature scaling\n",
    "temperature = 2.0\n",
    "confidences = temperature_scale(logits, temperature)\n",
    "print(\"Softmax probabilities after temperature scaling:\", confidences)\n",
    "```\n",
    "\n",
    "- **Higher Temperature**: Makes predictions more uncertain (reduces confidence).\n",
    "- **Lower Temperature**: Increases confidence.\n",
    "\n",
    "---\n",
    "\n",
    "### **4. Entropy-Based Confidence**\n",
    "You can compute the **entropy** of the softmax output to measure uncertainty. Entropy quantifies the \"spread\" of probabilities:\n",
    "- **Low entropy** → Probabilities are concentrated (high confidence).\n",
    "- **High entropy** → Probabilities are spread out (low confidence).\n",
    "\n",
    "For a probability vector \\( p \\), the entropy is:\n",
    "\\[\n",
    "H(p) = -\\sum_{i} p_i \\log(p_i)\n",
    "\\]\n",
    "\n",
    "**Code Example**:\n",
    "```python\n",
    "from scipy.stats import entropy\n",
    "\n",
    "# Softmax probabilities from the model\n",
    "predictions = model.predict(X_test)\n",
    "\n",
    "# Calculate entropy for each sample\n",
    "entropies = [entropy(pred) for pred in predictions]\n",
    "\n",
    "# Output entropy as a measure of uncertainty\n",
    "for i, e in enumerate(entropies[:5]):\n",
    "    print(f\"Sample {i}: Entropy = {e:.4f}\")\n",
    "```\n",
    "\n",
    "- High entropy indicates **uncertainty**.\n",
    "- Low entropy indicates **confidence**.\n",
    "\n",
    "---\n",
    "\n",
    "### **5. Confidence via Model Calibration**\n",
    "Sometimes, models tend to **overconfidently predict probabilities**. You can evaluate the reliability of the confidence scores through **calibration techniques** such as:\n",
    "- **Reliability Diagrams**.\n",
    "- **Expected Calibration Error (ECE)**.\n",
    "Tools like **`temperature scaling`** and **`Platt scaling`** are commonly used to calibrate predictions.\n",
    "\n",
    "---\n",
    "\n",
    "### **Summary of Approaches**\n",
    "| **Method**                          | **Description**                                | **Measure**            |\n",
    "|-------------------------------------|----------------------------------------------|------------------------|\n",
    "| **Raw Probabilities**               | Use softmax/sigmoid outputs as confidence.    | Probability value      |\n",
    "| **Monte Carlo Dropout**             | Perform stochastic inference with dropout.    | Mean + Standard Dev.   |\n",
    "| **Temperature Scaling**             | Smooth probabilities using a temperature.     | Adjusted softmax values|\n",
    "| **Entropy-Based Confidence**        | Calculate entropy of softmax outputs.         | Entropy (lower = confident) |\n",
    "| **Calibration Techniques**          | Adjust predictions to reflect true confidence.| Reliability diagrams   |\n",
    "\n",
    "---\n",
    "\n",
    "### **Recommendation for Your Project**\n",
    "1. Start with **raw probabilities** to interpret confidence scores.\n",
    "2. Implement **Monte Carlo Dropout** for uncertainty estimation if you want a deeper analysis.\n",
    "3. Use **entropy-based confidence** to quantify how \"confident\" the softmax probabilities are.\n",
    "\n",
    "Combining these techniques can give you a comprehensive understanding of your model's predictions and its uncertainty. Let me know if you'd like a deeper dive into any specific method! 🚀"
   ]
  },
  {
   "cell_type": "markdown",
   "metadata": {},
   "source": []
  }
 ],
 "metadata": {
  "kernelspec": {
   "display_name": "ml-tensorflow-wsl",
   "language": "python",
   "name": "python3"
  },
  "language_info": {
   "codemirror_mode": {
    "name": "ipython",
    "version": 3
   },
   "file_extension": ".py",
   "mimetype": "text/x-python",
   "name": "python",
   "nbconvert_exporter": "python",
   "pygments_lexer": "ipython3",
   "version": "3.12.8"
  }
 },
 "nbformat": 4,
 "nbformat_minor": 2
}
