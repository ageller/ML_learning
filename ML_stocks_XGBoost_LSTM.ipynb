{
 "cells": [
  {
   "cell_type": "markdown",
   "metadata": {},
   "source": [
    "# Working through some stock market ML prediction examples \n"
   ]
  },
  {
   "cell_type": "markdown",
   "metadata": {},
   "source": [
    "Using Google Stock data from [Kaggle](https://www.kaggle.com/datasets/alirezajavid1999/google-stock-2010-2023) and supplemented from [MarketWatch](https://www.marketwatch.com/investing/stock/goog/download-data?startDate=8/1/2024&endDate=12/16/2024) (see Python code in the data directory)"
   ]
  },
  {
   "cell_type": "markdown",
   "metadata": {},
   "source": [
    "## 1. scikit-learn and XGBoost\n",
    "\n",
    "Working from this example : https://www.geeksforgeeks.org/stock-price-prediction-using-machine-learning-in-python/"
   ]
  },
  {
   "cell_type": "code",
   "execution_count": 1,
   "metadata": {},
   "outputs": [],
   "source": [
    "import numpy as np\n",
    "import pandas as pd\n",
    "import matplotlib.pyplot as plt\n",
    "import seaborn as sns\n",
    "\n",
    "from sklearn.model_selection import train_test_split\n",
    "from sklearn.preprocessing import StandardScaler,MinMaxScaler\n",
    "from sklearn.linear_model import LogisticRegression\n",
    "from sklearn.svm import SVC\n",
    "from xgboost import XGBClassifier\n",
    "from sklearn import metrics"
   ]
  },
  {
   "cell_type": "markdown",
   "metadata": {},
   "source": [
    "Read in the data and calculate some features to use later"
   ]
  },
  {
   "cell_type": "code",
   "execution_count": 2,
   "metadata": {},
   "outputs": [
    {
     "data": {
      "text/html": [
       "<div>\n",
       "<style scoped>\n",
       "    .dataframe tbody tr th:only-of-type {\n",
       "        vertical-align: middle;\n",
       "    }\n",
       "\n",
       "    .dataframe tbody tr th {\n",
       "        vertical-align: top;\n",
       "    }\n",
       "\n",
       "    .dataframe thead th {\n",
       "        text-align: right;\n",
       "    }\n",
       "</style>\n",
       "<table border=\"1\" class=\"dataframe\">\n",
       "  <thead>\n",
       "    <tr style=\"text-align: right;\">\n",
       "      <th></th>\n",
       "      <th>Date</th>\n",
       "      <th>Open</th>\n",
       "      <th>High</th>\n",
       "      <th>Low</th>\n",
       "      <th>Close</th>\n",
       "      <th>Volume</th>\n",
       "      <th>year</th>\n",
       "      <th>month</th>\n",
       "      <th>day</th>\n",
       "      <th>is_quarter_end</th>\n",
       "      <th>close-open</th>\n",
       "      <th>high-low</th>\n",
       "      <th>target</th>\n",
       "    </tr>\n",
       "  </thead>\n",
       "  <tbody>\n",
       "    <tr>\n",
       "      <th>0</th>\n",
       "      <td>2010-01-04</td>\n",
       "      <td>15.689439</td>\n",
       "      <td>15.753504</td>\n",
       "      <td>15.621622</td>\n",
       "      <td>15.684434</td>\n",
       "      <td>78169752</td>\n",
       "      <td>2010</td>\n",
       "      <td>1</td>\n",
       "      <td>4</td>\n",
       "      <td>0</td>\n",
       "      <td>-0.005005</td>\n",
       "      <td>0.131882</td>\n",
       "      <td>0</td>\n",
       "    </tr>\n",
       "    <tr>\n",
       "      <th>1</th>\n",
       "      <td>2010-01-05</td>\n",
       "      <td>15.695195</td>\n",
       "      <td>15.711712</td>\n",
       "      <td>15.554054</td>\n",
       "      <td>15.615365</td>\n",
       "      <td>120067812</td>\n",
       "      <td>2010</td>\n",
       "      <td>1</td>\n",
       "      <td>5</td>\n",
       "      <td>0</td>\n",
       "      <td>-0.079830</td>\n",
       "      <td>0.157658</td>\n",
       "      <td>0</td>\n",
       "    </tr>\n",
       "    <tr>\n",
       "      <th>2</th>\n",
       "      <td>2010-01-06</td>\n",
       "      <td>15.662162</td>\n",
       "      <td>15.662162</td>\n",
       "      <td>15.174174</td>\n",
       "      <td>15.221722</td>\n",
       "      <td>158988852</td>\n",
       "      <td>2010</td>\n",
       "      <td>1</td>\n",
       "      <td>6</td>\n",
       "      <td>0</td>\n",
       "      <td>-0.440440</td>\n",
       "      <td>0.487988</td>\n",
       "      <td>0</td>\n",
       "    </tr>\n",
       "    <tr>\n",
       "      <th>3</th>\n",
       "      <td>2010-01-07</td>\n",
       "      <td>15.250250</td>\n",
       "      <td>15.265265</td>\n",
       "      <td>14.831081</td>\n",
       "      <td>14.867367</td>\n",
       "      <td>256315428</td>\n",
       "      <td>2010</td>\n",
       "      <td>1</td>\n",
       "      <td>7</td>\n",
       "      <td>0</td>\n",
       "      <td>-0.382883</td>\n",
       "      <td>0.434184</td>\n",
       "      <td>1</td>\n",
       "    </tr>\n",
       "    <tr>\n",
       "      <th>4</th>\n",
       "      <td>2010-01-08</td>\n",
       "      <td>14.814815</td>\n",
       "      <td>15.096346</td>\n",
       "      <td>14.742492</td>\n",
       "      <td>15.065566</td>\n",
       "      <td>188783028</td>\n",
       "      <td>2010</td>\n",
       "      <td>1</td>\n",
       "      <td>8</td>\n",
       "      <td>0</td>\n",
       "      <td>0.250751</td>\n",
       "      <td>0.353854</td>\n",
       "      <td>0</td>\n",
       "    </tr>\n",
       "    <tr>\n",
       "      <th>...</th>\n",
       "      <td>...</td>\n",
       "      <td>...</td>\n",
       "      <td>...</td>\n",
       "      <td>...</td>\n",
       "      <td>...</td>\n",
       "      <td>...</td>\n",
       "      <td>...</td>\n",
       "      <td>...</td>\n",
       "      <td>...</td>\n",
       "      <td>...</td>\n",
       "      <td>...</td>\n",
       "      <td>...</td>\n",
       "      <td>...</td>\n",
       "    </tr>\n",
       "    <tr>\n",
       "      <th>3758</th>\n",
       "      <td>2024-12-09</td>\n",
       "      <td>175.720000</td>\n",
       "      <td>178.040000</td>\n",
       "      <td>175.400000</td>\n",
       "      <td>177.100000</td>\n",
       "      <td>19887789</td>\n",
       "      <td>2024</td>\n",
       "      <td>12</td>\n",
       "      <td>9</td>\n",
       "      <td>1</td>\n",
       "      <td>1.380000</td>\n",
       "      <td>2.640000</td>\n",
       "      <td>1</td>\n",
       "    </tr>\n",
       "    <tr>\n",
       "      <th>3759</th>\n",
       "      <td>2024-12-10</td>\n",
       "      <td>184.540000</td>\n",
       "      <td>188.030000</td>\n",
       "      <td>182.670000</td>\n",
       "      <td>186.530000</td>\n",
       "      <td>34317441</td>\n",
       "      <td>2024</td>\n",
       "      <td>12</td>\n",
       "      <td>10</td>\n",
       "      <td>1</td>\n",
       "      <td>1.990000</td>\n",
       "      <td>5.360000</td>\n",
       "      <td>1</td>\n",
       "    </tr>\n",
       "    <tr>\n",
       "      <th>3760</th>\n",
       "      <td>2024-12-11</td>\n",
       "      <td>186.700000</td>\n",
       "      <td>196.890000</td>\n",
       "      <td>186.260000</td>\n",
       "      <td>196.710000</td>\n",
       "      <td>41664488</td>\n",
       "      <td>2024</td>\n",
       "      <td>12</td>\n",
       "      <td>11</td>\n",
       "      <td>1</td>\n",
       "      <td>10.010000</td>\n",
       "      <td>10.630000</td>\n",
       "      <td>0</td>\n",
       "    </tr>\n",
       "    <tr>\n",
       "      <th>3761</th>\n",
       "      <td>2024-12-12</td>\n",
       "      <td>196.300000</td>\n",
       "      <td>196.710000</td>\n",
       "      <td>193.280000</td>\n",
       "      <td>193.630000</td>\n",
       "      <td>25197760</td>\n",
       "      <td>2024</td>\n",
       "      <td>12</td>\n",
       "      <td>12</td>\n",
       "      <td>1</td>\n",
       "      <td>-2.670000</td>\n",
       "      <td>3.430000</td>\n",
       "      <td>0</td>\n",
       "    </tr>\n",
       "    <tr>\n",
       "      <th>3762</th>\n",
       "      <td>2024-12-13</td>\n",
       "      <td>192.710000</td>\n",
       "      <td>194.340000</td>\n",
       "      <td>191.260000</td>\n",
       "      <td>191.380000</td>\n",
       "      <td>18883221</td>\n",
       "      <td>2024</td>\n",
       "      <td>12</td>\n",
       "      <td>13</td>\n",
       "      <td>1</td>\n",
       "      <td>-1.330000</td>\n",
       "      <td>3.080000</td>\n",
       "      <td>0</td>\n",
       "    </tr>\n",
       "  </tbody>\n",
       "</table>\n",
       "<p>3763 rows × 13 columns</p>\n",
       "</div>"
      ],
      "text/plain": [
       "           Date        Open        High         Low       Close     Volume  \\\n",
       "0    2010-01-04   15.689439   15.753504   15.621622   15.684434   78169752   \n",
       "1    2010-01-05   15.695195   15.711712   15.554054   15.615365  120067812   \n",
       "2    2010-01-06   15.662162   15.662162   15.174174   15.221722  158988852   \n",
       "3    2010-01-07   15.250250   15.265265   14.831081   14.867367  256315428   \n",
       "4    2010-01-08   14.814815   15.096346   14.742492   15.065566  188783028   \n",
       "...         ...         ...         ...         ...         ...        ...   \n",
       "3758 2024-12-09  175.720000  178.040000  175.400000  177.100000   19887789   \n",
       "3759 2024-12-10  184.540000  188.030000  182.670000  186.530000   34317441   \n",
       "3760 2024-12-11  186.700000  196.890000  186.260000  196.710000   41664488   \n",
       "3761 2024-12-12  196.300000  196.710000  193.280000  193.630000   25197760   \n",
       "3762 2024-12-13  192.710000  194.340000  191.260000  191.380000   18883221   \n",
       "\n",
       "      year  month  day  is_quarter_end  close-open   high-low  target  \n",
       "0     2010      1    4               0   -0.005005   0.131882       0  \n",
       "1     2010      1    5               0   -0.079830   0.157658       0  \n",
       "2     2010      1    6               0   -0.440440   0.487988       0  \n",
       "3     2010      1    7               0   -0.382883   0.434184       1  \n",
       "4     2010      1    8               0    0.250751   0.353854       0  \n",
       "...    ...    ...  ...             ...         ...        ...     ...  \n",
       "3758  2024     12    9               1    1.380000   2.640000       1  \n",
       "3759  2024     12   10               1    1.990000   5.360000       1  \n",
       "3760  2024     12   11               1   10.010000  10.630000       0  \n",
       "3761  2024     12   12               1   -2.670000   3.430000       0  \n",
       "3762  2024     12   13               1   -1.330000   3.080000       0  \n",
       "\n",
       "[3763 rows x 13 columns]"
      ]
     },
     "execution_count": 2,
     "metadata": {},
     "output_type": "execute_result"
    }
   ],
   "source": [
    "df = pd.read_csv('data/google.csv')\n",
    "df['Date'] = pd.to_datetime(df['Date'])\n",
    "df.sort_values(by='Date', inplace=True)\n",
    "df['year'] = df['Date'].dt.year\n",
    "df['month'] = df['Date'].dt.month\n",
    "df['day'] = df['Date'].dt.day\n",
    "\n",
    "# the columns are recommended by the Geeks for Geeks example\n",
    "df['is_quarter_end'] = np.where(df['month']%3==0,1,0) \n",
    "df['close-open']  = df['Close'] - df['Open']\n",
    "df['high-low']  = df['High'] - df['Low']\n",
    "df['target'] = np.where(df['Close'].shift(-1) > df['Close'], 1, 0) # whether to buy or not\n",
    "df"
   ]
  },
  {
   "cell_type": "code",
   "execution_count": 3,
   "metadata": {},
   "outputs": [
    {
     "data": {
      "text/html": [
       "<div>\n",
       "<style scoped>\n",
       "    .dataframe tbody tr th:only-of-type {\n",
       "        vertical-align: middle;\n",
       "    }\n",
       "\n",
       "    .dataframe tbody tr th {\n",
       "        vertical-align: top;\n",
       "    }\n",
       "\n",
       "    .dataframe thead th {\n",
       "        text-align: right;\n",
       "    }\n",
       "</style>\n",
       "<table border=\"1\" class=\"dataframe\">\n",
       "  <thead>\n",
       "    <tr style=\"text-align: right;\">\n",
       "      <th></th>\n",
       "      <th>Date</th>\n",
       "      <th>Open</th>\n",
       "      <th>High</th>\n",
       "      <th>Low</th>\n",
       "      <th>Close</th>\n",
       "      <th>Volume</th>\n",
       "      <th>year</th>\n",
       "      <th>month</th>\n",
       "      <th>day</th>\n",
       "      <th>is_quarter_end</th>\n",
       "      <th>close-open</th>\n",
       "      <th>high-low</th>\n",
       "      <th>target</th>\n",
       "    </tr>\n",
       "  </thead>\n",
       "  <tbody>\n",
       "    <tr>\n",
       "      <th>count</th>\n",
       "      <td>3763</td>\n",
       "      <td>3763.000000</td>\n",
       "      <td>3763.000000</td>\n",
       "      <td>3763.000000</td>\n",
       "      <td>3763.000000</td>\n",
       "      <td>3.763000e+03</td>\n",
       "      <td>3763.000000</td>\n",
       "      <td>3763.000000</td>\n",
       "      <td>3763.000000</td>\n",
       "      <td>3763.000000</td>\n",
       "      <td>3763.000000</td>\n",
       "      <td>3763.000000</td>\n",
       "      <td>3763.000000</td>\n",
       "    </tr>\n",
       "    <tr>\n",
       "      <th>mean</th>\n",
       "      <td>2017-06-23 22:07:06.680839680</td>\n",
       "      <td>61.148149</td>\n",
       "      <td>61.779111</td>\n",
       "      <td>60.534268</td>\n",
       "      <td>61.169949</td>\n",
       "      <td>5.558174e+07</td>\n",
       "      <td>2016.978209</td>\n",
       "      <td>6.528833</td>\n",
       "      <td>15.700771</td>\n",
       "      <td>0.334042</td>\n",
       "      <td>0.021800</td>\n",
       "      <td>1.244843</td>\n",
       "      <td>0.530428</td>\n",
       "    </tr>\n",
       "    <tr>\n",
       "      <th>min</th>\n",
       "      <td>2010-01-04 00:00:00</td>\n",
       "      <td>10.968719</td>\n",
       "      <td>11.068068</td>\n",
       "      <td>10.851602</td>\n",
       "      <td>10.912663</td>\n",
       "      <td>7.409106e+06</td>\n",
       "      <td>2010.000000</td>\n",
       "      <td>1.000000</td>\n",
       "      <td>1.000000</td>\n",
       "      <td>0.000000</td>\n",
       "      <td>-6.645004</td>\n",
       "      <td>0.076076</td>\n",
       "      <td>0.000000</td>\n",
       "    </tr>\n",
       "    <tr>\n",
       "      <th>25%</th>\n",
       "      <td>2013-09-28 12:00:00</td>\n",
       "      <td>22.652528</td>\n",
       "      <td>22.807807</td>\n",
       "      <td>22.487237</td>\n",
       "      <td>22.651777</td>\n",
       "      <td>2.663715e+07</td>\n",
       "      <td>2013.000000</td>\n",
       "      <td>4.000000</td>\n",
       "      <td>8.000000</td>\n",
       "      <td>0.000000</td>\n",
       "      <td>-0.246753</td>\n",
       "      <td>0.334918</td>\n",
       "      <td>0.000000</td>\n",
       "    </tr>\n",
       "    <tr>\n",
       "      <th>50%</th>\n",
       "      <td>2017-06-23 00:00:00</td>\n",
       "      <td>47.275002</td>\n",
       "      <td>47.525002</td>\n",
       "      <td>46.917999</td>\n",
       "      <td>47.275002</td>\n",
       "      <td>3.722400e+07</td>\n",
       "      <td>2017.000000</td>\n",
       "      <td>7.000000</td>\n",
       "      <td>16.000000</td>\n",
       "      <td>0.000000</td>\n",
       "      <td>0.008509</td>\n",
       "      <td>0.700701</td>\n",
       "      <td>1.000000</td>\n",
       "    </tr>\n",
       "    <tr>\n",
       "      <th>75%</th>\n",
       "      <td>2021-03-20 12:00:00</td>\n",
       "      <td>92.259998</td>\n",
       "      <td>93.876751</td>\n",
       "      <td>91.262753</td>\n",
       "      <td>92.270000</td>\n",
       "      <td>7.327665e+07</td>\n",
       "      <td>2021.000000</td>\n",
       "      <td>9.500000</td>\n",
       "      <td>23.000000</td>\n",
       "      <td>1.000000</td>\n",
       "      <td>0.309249</td>\n",
       "      <td>1.844006</td>\n",
       "      <td>1.000000</td>\n",
       "    </tr>\n",
       "    <tr>\n",
       "      <th>max</th>\n",
       "      <td>2024-12-13 00:00:00</td>\n",
       "      <td>196.300000</td>\n",
       "      <td>196.890000</td>\n",
       "      <td>193.280000</td>\n",
       "      <td>196.710000</td>\n",
       "      <td>5.923990e+08</td>\n",
       "      <td>2024.000000</td>\n",
       "      <td>12.000000</td>\n",
       "      <td>31.000000</td>\n",
       "      <td>1.000000</td>\n",
       "      <td>10.010000</td>\n",
       "      <td>10.630000</td>\n",
       "      <td>1.000000</td>\n",
       "    </tr>\n",
       "    <tr>\n",
       "      <th>std</th>\n",
       "      <td>NaN</td>\n",
       "      <td>46.586308</td>\n",
       "      <td>47.108606</td>\n",
       "      <td>46.106375</td>\n",
       "      <td>46.613001</td>\n",
       "      <td>4.794345e+07</td>\n",
       "      <td>4.309905</td>\n",
       "      <td>3.418514</td>\n",
       "      <td>8.749711</td>\n",
       "      <td>0.471717</td>\n",
       "      <td>1.070655</td>\n",
       "      <td>1.267601</td>\n",
       "      <td>0.499140</td>\n",
       "    </tr>\n",
       "  </tbody>\n",
       "</table>\n",
       "</div>"
      ],
      "text/plain": [
       "                                Date         Open         High          Low  \\\n",
       "count                           3763  3763.000000  3763.000000  3763.000000   \n",
       "mean   2017-06-23 22:07:06.680839680    61.148149    61.779111    60.534268   \n",
       "min              2010-01-04 00:00:00    10.968719    11.068068    10.851602   \n",
       "25%              2013-09-28 12:00:00    22.652528    22.807807    22.487237   \n",
       "50%              2017-06-23 00:00:00    47.275002    47.525002    46.917999   \n",
       "75%              2021-03-20 12:00:00    92.259998    93.876751    91.262753   \n",
       "max              2024-12-13 00:00:00   196.300000   196.890000   193.280000   \n",
       "std                              NaN    46.586308    47.108606    46.106375   \n",
       "\n",
       "             Close        Volume         year        month          day  \\\n",
       "count  3763.000000  3.763000e+03  3763.000000  3763.000000  3763.000000   \n",
       "mean     61.169949  5.558174e+07  2016.978209     6.528833    15.700771   \n",
       "min      10.912663  7.409106e+06  2010.000000     1.000000     1.000000   \n",
       "25%      22.651777  2.663715e+07  2013.000000     4.000000     8.000000   \n",
       "50%      47.275002  3.722400e+07  2017.000000     7.000000    16.000000   \n",
       "75%      92.270000  7.327665e+07  2021.000000     9.500000    23.000000   \n",
       "max     196.710000  5.923990e+08  2024.000000    12.000000    31.000000   \n",
       "std      46.613001  4.794345e+07     4.309905     3.418514     8.749711   \n",
       "\n",
       "       is_quarter_end   close-open     high-low       target  \n",
       "count     3763.000000  3763.000000  3763.000000  3763.000000  \n",
       "mean         0.334042     0.021800     1.244843     0.530428  \n",
       "min          0.000000    -6.645004     0.076076     0.000000  \n",
       "25%          0.000000    -0.246753     0.334918     0.000000  \n",
       "50%          0.000000     0.008509     0.700701     1.000000  \n",
       "75%          1.000000     0.309249     1.844006     1.000000  \n",
       "max          1.000000    10.010000    10.630000     1.000000  \n",
       "std          0.471717     1.070655     1.267601     0.499140  "
      ]
     },
     "execution_count": 3,
     "metadata": {},
     "output_type": "execute_result"
    }
   ],
   "source": [
    "df.describe()"
   ]
  },
  {
   "cell_type": "code",
   "execution_count": 4,
   "metadata": {},
   "outputs": [
    {
     "name": "stdout",
     "output_type": "stream",
     "text": [
      "<class 'pandas.core.frame.DataFrame'>\n",
      "RangeIndex: 3763 entries, 0 to 3762\n",
      "Data columns (total 13 columns):\n",
      " #   Column          Non-Null Count  Dtype         \n",
      "---  ------          --------------  -----         \n",
      " 0   Date            3763 non-null   datetime64[ns]\n",
      " 1   Open            3763 non-null   float64       \n",
      " 2   High            3763 non-null   float64       \n",
      " 3   Low             3763 non-null   float64       \n",
      " 4   Close           3763 non-null   float64       \n",
      " 5   Volume          3763 non-null   int64         \n",
      " 6   year            3763 non-null   int32         \n",
      " 7   month           3763 non-null   int32         \n",
      " 8   day             3763 non-null   int32         \n",
      " 9   is_quarter_end  3763 non-null   int64         \n",
      " 10  close-open      3763 non-null   float64       \n",
      " 11  high-low        3763 non-null   float64       \n",
      " 12  target          3763 non-null   int64         \n",
      "dtypes: datetime64[ns](1), float64(6), int32(3), int64(3)\n",
      "memory usage: 338.2 KB\n"
     ]
    }
   ],
   "source": [
    "df.info()"
   ]
  },
  {
   "cell_type": "code",
   "execution_count": 5,
   "metadata": {},
   "outputs": [
    {
     "data": {
      "text/plain": [
       "Date              0\n",
       "Open              0\n",
       "High              0\n",
       "Low               0\n",
       "Close             0\n",
       "Volume            0\n",
       "year              0\n",
       "month             0\n",
       "day               0\n",
       "is_quarter_end    0\n",
       "close-open        0\n",
       "high-low          0\n",
       "target            0\n",
       "dtype: int64"
      ]
     },
     "execution_count": 5,
     "metadata": {},
     "output_type": "execute_result"
    }
   ],
   "source": [
    "df.isnull().sum()"
   ]
  },
  {
   "cell_type": "code",
   "execution_count": 6,
   "metadata": {},
   "outputs": [
    {
     "data": {
      "text/plain": [
       "<Axes: xlabel='Date', ylabel='Close'>"
      ]
     },
     "execution_count": 6,
     "metadata": {},
     "output_type": "execute_result"
    },
    {
     "data": {
      "image/png": "[encoded data removed]",
      "text/plain": [
       "<Figure size 640x480 with 1 Axes>"
      ]
     },
     "metadata": {},
     "output_type": "display_data"
    }
   ],
   "source": [
    "sns.lineplot(data = df, x = 'Date', y = 'Close')"
   ]
  },
  {
   "cell_type": "code",
   "execution_count": 7,
   "metadata": {},
   "outputs": [
    {
     "data": {
      "image/png": "[encoded data removed]",
      "text/plain": [
       "<Figure size 400x1000 with 5 Axes>"
      ]
     },
     "metadata": {},
     "output_type": "display_data"
    }
   ],
   "source": [
    "features = ['Open', 'High', 'Low', 'Close', 'Volume']\n",
    "\n",
    "f, ax = plt.subplots(len(features), figsize=(4,10))\n",
    "plt.subplots_adjust(hspace = 0.4)\n",
    "\n",
    "for (axi,feat) in zip(ax,features):\n",
    "    sns.histplot(data=df, x=feat, ax=axi, bins=50, kde=True)\n"
   ]
  },
  {
   "cell_type": "code",
   "execution_count": 8,
   "metadata": {},
   "outputs": [
    {
     "data": {
      "text/plain": [
       "<Axes: >"
      ]
     },
     "execution_count": 8,
     "metadata": {},
     "output_type": "execute_result"
    },
    {
     "data": {
      "image/png": "[encoded data removed]",
      "text/plain": [
       "<Figure size 640x480 with 1 Axes>"
      ]
     },
     "metadata": {},
     "output_type": "display_data"
    }
   ],
   "source": [
    "# check for correlations\n",
    "#sns.heatmap(df.drop('Date', axis=1).corr(), annot=False, cbar=True)\n",
    "sns.heatmap(df.drop('Date', axis=1).corr() > 0.9, annot=True, cbar=False) # only show the highly correlated values\n"
   ]
  },
  {
   "cell_type": "markdown",
   "metadata": {},
   "source": [
    "Create and train a few models and check their performance"
   ]
  },
  {
   "cell_type": "code",
   "execution_count": 9,
   "metadata": {},
   "outputs": [
    {
     "name": "stdout",
     "output_type": "stream",
     "text": [
      "(3386, 3) (377, 3)\n"
     ]
    }
   ],
   "source": [
    "# try the model\n",
    "features = df[['close-open', 'high-low', 'is_quarter_end']]\n",
    "target = df['target']\n",
    "\n",
    "scaler = StandardScaler() # https://scikit-learn.org/1.5/modules/generated/sklearn.preprocessing.StandardScaler.html\n",
    "features = scaler.fit_transform(features)\n",
    "\n",
    "X_train, X_valid, Y_train, Y_valid = train_test_split(features, target, test_size=0.1, random_state=1234)\n",
    "print(X_train.shape, X_valid.shape)"
   ]
  },
  {
   "cell_type": "code",
   "execution_count": 10,
   "metadata": {},
   "outputs": [
    {
     "name": "stdout",
     "output_type": "stream",
     "text": [
      "LogisticRegression() : \n",
      "Training Accuracy :  0.5065270709906596\n",
      "Validation Accuracy :  0.4835380116959065\n",
      "\n",
      "SVC(kernel='poly', probability=True) : \n",
      "Training Accuracy :  0.5071083311627126\n",
      "Validation Accuracy :  0.5082163742690058\n",
      "\n",
      "XGBClassifier(base_score=None, booster=None, callbacks=None,\n",
      "              colsample_bylevel=None, colsample_bynode=None,\n",
      "              colsample_bytree=None, device=None, early_stopping_rounds=None,\n",
      "              enable_categorical=False, eval_metric=None, feature_types=None,\n",
      "              gamma=None, grow_policy=None, importance_type=None,\n",
      "              interaction_constraints=None, learning_rate=None, max_bin=None,\n",
      "              max_cat_threshold=None, max_cat_to_onehot=None,\n",
      "              max_delta_step=None, max_depth=None, max_leaves=None,\n",
      "              min_child_weight=None, missing=nan, monotone_constraints=None,\n",
      "              multi_strategy=None, n_estimators=None, n_jobs=None,\n",
      "              num_parallel_tree=None, random_state=None, ...) : \n",
      "Training Accuracy :  0.918479528278963\n",
      "Validation Accuracy :  0.475233918128655\n",
      "\n"
     ]
    }
   ],
   "source": [
    "# test a few models\n",
    "models = [LogisticRegression(), SVC(kernel='poly', probability=True), XGBClassifier()]\n",
    "\n",
    "for i in range(3):\n",
    "  models[i].fit(X_train, Y_train)\n",
    "\n",
    "  print(f'{models[i]} : ')\n",
    "  print('Training Accuracy : ', metrics.roc_auc_score(Y_train, models[i].predict_proba(X_train)[:,1]))\n",
    "  print('Validation Accuracy : ', metrics.roc_auc_score(Y_valid, models[i].predict_proba(X_valid)[:,1]))\n",
    "  print()"
   ]
  },
  {
   "cell_type": "markdown",
   "metadata": {},
   "source": [
    "None of these actually work well (though XGB has high training accuracy it does not have high validation accuracy)\n"
   ]
  },
  {
   "cell_type": "markdown",
   "metadata": {},
   "source": [
    "## 2. TensorFlow and LSTM\n",
    "\n",
    "Working from these examples : \n",
    "- https://www.geeksforgeeks.org/stock-price-prediction-project-using-tensorflow/\n",
    "- https://www.projectpro.io/article/stock-price-prediction-using-machine-learning-project/571"
   ]
  },
  {
   "cell_type": "code",
   "execution_count": 11,
   "metadata": {},
   "outputs": [
    {
     "name": "stderr",
     "output_type": "stream",
     "text": [
      "2024-12-17 10:30:20.721276: I tensorflow/core/util/port.cc:153] oneDNN custom operations are on. You may see slightly different numerical results due to floating-point round-off errors from different computation orders. To turn them off, set the environment variable `TF_ENABLE_ONEDNN_OPTS=0`.\n",
      "2024-12-17 10:30:20.746201: E external/local_xla/xla/stream_executor/cuda/cuda_fft.cc:477] Unable to register cuFFT factory: Attempting to register factory for plugin cuFFT when one has already been registered\n",
      "WARNING: All log messages before absl::InitializeLog() is called are written to STDERR\n",
      "E0000 00:00:1734453020.761883   16719 cuda_dnn.cc:8310] Unable to register cuDNN factory: Attempting to register factory for plugin cuDNN when one has already been registered\n",
      "E0000 00:00:1734453020.766564   16719 cuda_blas.cc:1418] Unable to register cuBLAS factory: Attempting to register factory for plugin cuBLAS when one has already been registered\n",
      "2024-12-17 10:30:20.798230: I tensorflow/core/platform/cpu_feature_guard.cc:210] This TensorFlow binary is optimized to use available CPU instructions in performance-critical operations.\n",
      "To enable the following instructions: AVX2 AVX_VNNI FMA, in other operations, rebuild TensorFlow with the appropriate compiler flags.\n"
     ]
    }
   ],
   "source": [
    "import tensorflow as tf\n",
    "from tensorflow.keras.models import Sequential\n",
    "from tensorflow.keras.layers import LSTM, Dense, Input, Dropout\n",
    "from tensorflow.keras.optimizers import Adam\n",
    "from tensorflow.keras.optimizers.schedules import CosineDecay"
   ]
  },
  {
   "cell_type": "markdown",
   "metadata": {},
   "source": [
    "In this example, we train on a subset of data selected to be less than a certain date, and then try to predict the Close value for the remaining dates.\n",
    "\n",
    "I also want to select some validation data.  Since this particular stock gets a bit volatile at the end, I will use the initial bits for validation."
   ]
  },
  {
   "cell_type": "code",
   "execution_count": 12,
   "metadata": {},
   "outputs": [
    {
     "data": {
      "text/html": [
       "<div>\n",
       "<style scoped>\n",
       "    .dataframe tbody tr th:only-of-type {\n",
       "        vertical-align: middle;\n",
       "    }\n",
       "\n",
       "    .dataframe tbody tr th {\n",
       "        vertical-align: top;\n",
       "    }\n",
       "\n",
       "    .dataframe thead th {\n",
       "        text-align: right;\n",
       "    }\n",
       "</style>\n",
       "<table border=\"1\" class=\"dataframe\">\n",
       "  <thead>\n",
       "    <tr style=\"text-align: right;\">\n",
       "      <th></th>\n",
       "      <th>Date</th>\n",
       "      <th>Open</th>\n",
       "      <th>High</th>\n",
       "      <th>Low</th>\n",
       "      <th>Close</th>\n",
       "      <th>Volume</th>\n",
       "      <th>year</th>\n",
       "      <th>month</th>\n",
       "      <th>day</th>\n",
       "      <th>is_quarter_end</th>\n",
       "      <th>close-open</th>\n",
       "      <th>high-low</th>\n",
       "      <th>target</th>\n",
       "      <th>7d_open_rolling_mean</th>\n",
       "      <th>7d_high-low_rolling_mean</th>\n",
       "    </tr>\n",
       "  </thead>\n",
       "  <tbody>\n",
       "    <tr>\n",
       "      <th>0</th>\n",
       "      <td>2010-01-04</td>\n",
       "      <td>15.689439</td>\n",
       "      <td>15.753504</td>\n",
       "      <td>15.621622</td>\n",
       "      <td>15.684434</td>\n",
       "      <td>78169752</td>\n",
       "      <td>2010</td>\n",
       "      <td>1</td>\n",
       "      <td>4</td>\n",
       "      <td>0</td>\n",
       "      <td>-0.005005</td>\n",
       "      <td>0.131882</td>\n",
       "      <td>0</td>\n",
       "      <td>15.689439</td>\n",
       "      <td>0.131882</td>\n",
       "    </tr>\n",
       "    <tr>\n",
       "      <th>1</th>\n",
       "      <td>2010-01-05</td>\n",
       "      <td>15.695195</td>\n",
       "      <td>15.711712</td>\n",
       "      <td>15.554054</td>\n",
       "      <td>15.615365</td>\n",
       "      <td>120067812</td>\n",
       "      <td>2010</td>\n",
       "      <td>1</td>\n",
       "      <td>5</td>\n",
       "      <td>0</td>\n",
       "      <td>-0.079830</td>\n",
       "      <td>0.157658</td>\n",
       "      <td>0</td>\n",
       "      <td>15.692317</td>\n",
       "      <td>0.144770</td>\n",
       "    </tr>\n",
       "    <tr>\n",
       "      <th>2</th>\n",
       "      <td>2010-01-06</td>\n",
       "      <td>15.662162</td>\n",
       "      <td>15.662162</td>\n",
       "      <td>15.174174</td>\n",
       "      <td>15.221722</td>\n",
       "      <td>158988852</td>\n",
       "      <td>2010</td>\n",
       "      <td>1</td>\n",
       "      <td>6</td>\n",
       "      <td>0</td>\n",
       "      <td>-0.440440</td>\n",
       "      <td>0.487988</td>\n",
       "      <td>0</td>\n",
       "      <td>15.682265</td>\n",
       "      <td>0.259176</td>\n",
       "    </tr>\n",
       "    <tr>\n",
       "      <th>3</th>\n",
       "      <td>2010-01-07</td>\n",
       "      <td>15.250250</td>\n",
       "      <td>15.265265</td>\n",
       "      <td>14.831081</td>\n",
       "      <td>14.867367</td>\n",
       "      <td>256315428</td>\n",
       "      <td>2010</td>\n",
       "      <td>1</td>\n",
       "      <td>7</td>\n",
       "      <td>0</td>\n",
       "      <td>-0.382883</td>\n",
       "      <td>0.434184</td>\n",
       "      <td>1</td>\n",
       "      <td>15.574262</td>\n",
       "      <td>0.302928</td>\n",
       "    </tr>\n",
       "    <tr>\n",
       "      <th>4</th>\n",
       "      <td>2010-01-08</td>\n",
       "      <td>14.814815</td>\n",
       "      <td>15.096346</td>\n",
       "      <td>14.742492</td>\n",
       "      <td>15.065566</td>\n",
       "      <td>188783028</td>\n",
       "      <td>2010</td>\n",
       "      <td>1</td>\n",
       "      <td>8</td>\n",
       "      <td>0</td>\n",
       "      <td>0.250751</td>\n",
       "      <td>0.353854</td>\n",
       "      <td>0</td>\n",
       "      <td>15.422372</td>\n",
       "      <td>0.313113</td>\n",
       "    </tr>\n",
       "    <tr>\n",
       "      <th>...</th>\n",
       "      <td>...</td>\n",
       "      <td>...</td>\n",
       "      <td>...</td>\n",
       "      <td>...</td>\n",
       "      <td>...</td>\n",
       "      <td>...</td>\n",
       "      <td>...</td>\n",
       "      <td>...</td>\n",
       "      <td>...</td>\n",
       "      <td>...</td>\n",
       "      <td>...</td>\n",
       "      <td>...</td>\n",
       "      <td>...</td>\n",
       "      <td>...</td>\n",
       "      <td>...</td>\n",
       "    </tr>\n",
       "    <tr>\n",
       "      <th>3758</th>\n",
       "      <td>2024-12-09</td>\n",
       "      <td>175.720000</td>\n",
       "      <td>178.040000</td>\n",
       "      <td>175.400000</td>\n",
       "      <td>177.100000</td>\n",
       "      <td>19887789</td>\n",
       "      <td>2024</td>\n",
       "      <td>12</td>\n",
       "      <td>9</td>\n",
       "      <td>1</td>\n",
       "      <td>1.380000</td>\n",
       "      <td>2.640000</td>\n",
       "      <td>1</td>\n",
       "      <td>173.314286</td>\n",
       "      <td>2.938571</td>\n",
       "    </tr>\n",
       "    <tr>\n",
       "      <th>3759</th>\n",
       "      <td>2024-12-10</td>\n",
       "      <td>184.540000</td>\n",
       "      <td>188.030000</td>\n",
       "      <td>182.670000</td>\n",
       "      <td>186.530000</td>\n",
       "      <td>34317441</td>\n",
       "      <td>2024</td>\n",
       "      <td>12</td>\n",
       "      <td>10</td>\n",
       "      <td>1</td>\n",
       "      <td>1.990000</td>\n",
       "      <td>5.360000</td>\n",
       "      <td>1</td>\n",
       "      <td>175.382857</td>\n",
       "      <td>3.401429</td>\n",
       "    </tr>\n",
       "    <tr>\n",
       "      <th>3760</th>\n",
       "      <td>2024-12-11</td>\n",
       "      <td>186.700000</td>\n",
       "      <td>196.890000</td>\n",
       "      <td>186.260000</td>\n",
       "      <td>196.710000</td>\n",
       "      <td>41664488</td>\n",
       "      <td>2024</td>\n",
       "      <td>12</td>\n",
       "      <td>11</td>\n",
       "      <td>1</td>\n",
       "      <td>10.010000</td>\n",
       "      <td>10.630000</td>\n",
       "      <td>0</td>\n",
       "      <td>177.722857</td>\n",
       "      <td>4.444286</td>\n",
       "    </tr>\n",
       "    <tr>\n",
       "      <th>3761</th>\n",
       "      <td>2024-12-12</td>\n",
       "      <td>196.300000</td>\n",
       "      <td>196.710000</td>\n",
       "      <td>193.280000</td>\n",
       "      <td>193.630000</td>\n",
       "      <td>25197760</td>\n",
       "      <td>2024</td>\n",
       "      <td>12</td>\n",
       "      <td>12</td>\n",
       "      <td>1</td>\n",
       "      <td>-2.670000</td>\n",
       "      <td>3.430000</td>\n",
       "      <td>0</td>\n",
       "      <td>181.034286</td>\n",
       "      <td>4.675714</td>\n",
       "    </tr>\n",
       "    <tr>\n",
       "      <th>3762</th>\n",
       "      <td>2024-12-13</td>\n",
       "      <td>192.710000</td>\n",
       "      <td>194.340000</td>\n",
       "      <td>191.260000</td>\n",
       "      <td>191.380000</td>\n",
       "      <td>18883221</td>\n",
       "      <td>2024</td>\n",
       "      <td>12</td>\n",
       "      <td>13</td>\n",
       "      <td>1</td>\n",
       "      <td>-1.330000</td>\n",
       "      <td>3.080000</td>\n",
       "      <td>0</td>\n",
       "      <td>183.881429</td>\n",
       "      <td>4.590000</td>\n",
       "    </tr>\n",
       "  </tbody>\n",
       "</table>\n",
       "<p>3763 rows × 15 columns</p>\n",
       "</div>"
      ],
      "text/plain": [
       "           Date        Open        High         Low       Close     Volume  \\\n",
       "0    2010-01-04   15.689439   15.753504   15.621622   15.684434   78169752   \n",
       "1    2010-01-05   15.695195   15.711712   15.554054   15.615365  120067812   \n",
       "2    2010-01-06   15.662162   15.662162   15.174174   15.221722  158988852   \n",
       "3    2010-01-07   15.250250   15.265265   14.831081   14.867367  256315428   \n",
       "4    2010-01-08   14.814815   15.096346   14.742492   15.065566  188783028   \n",
       "...         ...         ...         ...         ...         ...        ...   \n",
       "3758 2024-12-09  175.720000  178.040000  175.400000  177.100000   19887789   \n",
       "3759 2024-12-10  184.540000  188.030000  182.670000  186.530000   34317441   \n",
       "3760 2024-12-11  186.700000  196.890000  186.260000  196.710000   41664488   \n",
       "3761 2024-12-12  196.300000  196.710000  193.280000  193.630000   25197760   \n",
       "3762 2024-12-13  192.710000  194.340000  191.260000  191.380000   18883221   \n",
       "\n",
       "      year  month  day  is_quarter_end  close-open   high-low  target  \\\n",
       "0     2010      1    4               0   -0.005005   0.131882       0   \n",
       "1     2010      1    5               0   -0.079830   0.157658       0   \n",
       "2     2010      1    6               0   -0.440440   0.487988       0   \n",
       "3     2010      1    7               0   -0.382883   0.434184       1   \n",
       "4     2010      1    8               0    0.250751   0.353854       0   \n",
       "...    ...    ...  ...             ...         ...        ...     ...   \n",
       "3758  2024     12    9               1    1.380000   2.640000       1   \n",
       "3759  2024     12   10               1    1.990000   5.360000       1   \n",
       "3760  2024     12   11               1   10.010000  10.630000       0   \n",
       "3761  2024     12   12               1   -2.670000   3.430000       0   \n",
       "3762  2024     12   13               1   -1.330000   3.080000       0   \n",
       "\n",
       "      7d_open_rolling_mean  7d_high-low_rolling_mean  \n",
       "0                15.689439                  0.131882  \n",
       "1                15.692317                  0.144770  \n",
       "2                15.682265                  0.259176  \n",
       "3                15.574262                  0.302928  \n",
       "4                15.422372                  0.313113  \n",
       "...                    ...                       ...  \n",
       "3758            173.314286                  2.938571  \n",
       "3759            175.382857                  3.401429  \n",
       "3760            177.722857                  4.444286  \n",
       "3761            181.034286                  4.675714  \n",
       "3762            183.881429                  4.590000  \n",
       "\n",
       "[3763 rows x 15 columns]"
      ]
     },
     "execution_count": 12,
     "metadata": {},
     "output_type": "execute_result"
    }
   ],
   "source": [
    "# add a few more features?\n",
    "df['7d_open_rolling_mean'] = df['Open'].rolling(7,min_periods=1).mean()\n",
    "df['7d_high-low_rolling_mean'] = df['high-low'].rolling(7,min_periods=1).mean()\n",
    "df"
   ]
  },
  {
   "cell_type": "code",
   "execution_count": 13,
   "metadata": {},
   "outputs": [
    {
     "name": "stdout",
     "output_type": "stream",
     "text": [
      "504 3522\n"
     ]
    }
   ],
   "source": [
    "validate_cutoff_date = pd.to_datetime('1/1/2012')\n",
    "training_cutoff_date = pd.to_datetime('1/1/2024')\n",
    "idx_validate = df.loc[df['Date'] >= validate_cutoff_date].index[0]\n",
    "idx_training = df.loc[df['Date'] >= training_cutoff_date].index[0]\n",
    "print(idx_validate, idx_training)"
   ]
  },
  {
   "cell_type": "code",
   "execution_count": 14,
   "metadata": {},
   "outputs": [],
   "source": [
    "# put the predictor at the end\n",
    " \n",
    "#features = ['Open', 'High', 'Low', 'Volume', 'Close'] \n",
    "features = ['Open', 'High', 'Low', 'close-open', 'high-low', 'is_quarter_end', '7d_open_rolling_mean', '7d_high-low_rolling_mean', 'Close'] \n",
    "#features = ['Open', 'High', 'Low', 'high-low', 'is_quarter_end', '7d_open_rolling_mean', 'Close'] \n",
    "#features = ['is_quarter_end', '7d_open_rolling_mean', '7d_high-low_rolling_mean', 'Close'] #\n",
    "\n",
    "stock_data = df[features].to_numpy()"
   ]
  },
  {
   "cell_type": "code",
   "execution_count": 15,
   "metadata": {},
   "outputs": [],
   "source": [
    "\n",
    "scaler = MinMaxScaler() \n",
    "scaled_stock_data = scaler.fit_transform(stock_data)\n",
    "\n",
    "validating_stock = scaled_stock_data[0:idx_validate]\n",
    "training_stock = scaled_stock_data[idx_validate:idx_training]\n",
    "testing_stock = scaled_stock_data[idx_training:]\n",
    "\n",
    "dates = df.filter(['Date']).values\n",
    "validating_date = dates[0:idx_validate]\n",
    "training_date = dates[idx_validate:idx_training]\n",
    "testing_date = dates[idx_training:]\n"
   ]
  },
  {
   "cell_type": "markdown",
   "metadata": {},
   "source": [
    "From here : https://www.projectpro.io/article/stock-price-prediction-using-machine-learning-project/571\n",
    "\n",
    "> \"...the training of an LSTM model requires a window or a timestep of data in each training step. For instance, the LSTM will take 10 data samples to predict the 10th one by weighing the first nine input samples in one step. So, we need a different approach than the train_test_split provided by scikit-learn.  Let’s define a splitting function called lstm_split() which will make windows of size \"step_size\" starting from the first sample of data and ending at step_size’th sample (if step_size=10, then the 10th sample) from the end.  We understand the latter part because, for each time step, LSTM will take step_size-1 samples for training and predict the last sample.\""
   ]
  },
  {
   "cell_type": "code",
   "execution_count": 16,
   "metadata": {},
   "outputs": [],
   "source": [
    "def lstm_split(data, step_size=10):\n",
    "    x = []\n",
    "    y = []\n",
    "    for i in range(len(data) - step_size + 1):\n",
    "        x.append(data[i:(i + step_size), :-1])\n",
    "        y.append(data[i + step_size - 1, -1])\n",
    "\n",
    "    return np.array(x), np.array(y)"
   ]
  },
  {
   "cell_type": "code",
   "execution_count": 17,
   "metadata": {},
   "outputs": [
    {
     "name": "stdout",
     "output_type": "stream",
     "text": [
      "(2999, 20, 8) (2999,)\n"
     ]
    }
   ],
   "source": [
    "step_size = 20\n",
    "x_valid, y_valid = lstm_split(validating_stock, step_size)\n",
    "x_train, y_train = lstm_split(training_stock, step_size)\n",
    "x_test, y_test = lstm_split(testing_stock, step_size)\n",
    "_, date_valid = lstm_split(validating_date, step_size)\n",
    "_, date_train = lstm_split(training_date, step_size)\n",
    "_, date_test = lstm_split(testing_date, step_size)\n",
    "\n",
    "print(x_train.shape, y_train.shape)"
   ]
  },
  {
   "cell_type": "code",
   "execution_count": 18,
   "metadata": {},
   "outputs": [
    {
     "name": "stdout",
     "output_type": "stream",
     "text": [
      "[ True  True  True  True  True  True  True  True]\n",
      "True\n"
     ]
    }
   ],
   "source": [
    "# check\n",
    "print(x_train[0][0] == training_stock[0][0:(len(features) - 1)])\n",
    "print(y_train[0] == training_stock[step_size -1 ][len(features) - 1])"
   ]
  },
  {
   "cell_type": "markdown",
   "metadata": {},
   "source": [
    "Build a simple model (I need to look into all the options! -- Google Gemini had a good explanation [here](https://g.co/gemini/share/a85b742e5d32))\n",
    "\n",
    "I suppose this is where the \"art\" comes in.  There are options for many layers, different types of optimization, additional parameters when fitting/training..."
   ]
  },
  {
   "cell_type": "code",
   "execution_count": 22,
   "metadata": {},
   "outputs": [
    {
     "data": {
      "text/html": [
       "<pre style=\"white-space:pre;overflow-x:auto;line-height:normal;font-family:Menlo,'DejaVu Sans Mono',consolas,'Courier New',monospace\"><span style=\"font-weight: bold\">Model: \"sequential_1\"</span>\n",
       "</pre>\n"
      ],
      "text/plain": [
       "\u001b[1mModel: \"sequential_1\"\u001b[0m\n"
      ]
     },
     "metadata": {},
     "output_type": "display_data"
    },
    {
     "data": {
      "text/html": [
       "<pre style=\"white-space:pre;overflow-x:auto;line-height:normal;font-family:Menlo,'DejaVu Sans Mono',consolas,'Courier New',monospace\">┏━━━━━━━━━━━━━━━━━━━━━━━━━━━━━━━━━┳━━━━━━━━━━━━━━━━━━━━━━━━┳━━━━━━━━━━━━━━━┓\n",
       "┃<span style=\"font-weight: bold\"> Layer (type)                    </span>┃<span style=\"font-weight: bold\"> Output Shape           </span>┃<span style=\"font-weight: bold\">       Param # </span>┃\n",
       "┡━━━━━━━━━━━━━━━━━━━━━━━━━━━━━━━━━╇━━━━━━━━━━━━━━━━━━━━━━━━╇━━━━━━━━━━━━━━━┩\n",
       "│ lstm_1 (<span style=\"color: #0087ff; text-decoration-color: #0087ff\">LSTM</span>)                   │ (<span style=\"color: #00d7ff; text-decoration-color: #00d7ff\">None</span>, <span style=\"color: #00af00; text-decoration-color: #00af00\">20</span>, <span style=\"color: #00af00; text-decoration-color: #00af00\">64</span>)         │        <span style=\"color: #00af00; text-decoration-color: #00af00\">16,896</span> │\n",
       "├─────────────────────────────────┼────────────────────────┼───────────────┤\n",
       "│ dense_1 (<span style=\"color: #0087ff; text-decoration-color: #0087ff\">Dense</span>)                 │ (<span style=\"color: #00d7ff; text-decoration-color: #00d7ff\">None</span>, <span style=\"color: #00af00; text-decoration-color: #00af00\">20</span>, <span style=\"color: #00af00; text-decoration-color: #00af00\">1</span>)          │            <span style=\"color: #00af00; text-decoration-color: #00af00\">65</span> │\n",
       "└─────────────────────────────────┴────────────────────────┴───────────────┘\n",
       "</pre>\n"
      ],
      "text/plain": [
       "┏━━━━━━━━━━━━━━━━━━━━━━━━━━━━━━━━━┳━━━━━━━━━━━━━━━━━━━━━━━━┳━━━━━━━━━━━━━━━┓\n",
       "┃\u001b[1m \u001b[0m\u001b[1mLayer (type)                   \u001b[0m\u001b[1m \u001b[0m┃\u001b[1m \u001b[0m\u001b[1mOutput Shape          \u001b[0m\u001b[1m \u001b[0m┃\u001b[1m \u001b[0m\u001b[1m      Param #\u001b[0m\u001b[1m \u001b[0m┃\n",
       "┡━━━━━━━━━━━━━━━━━━━━━━━━━━━━━━━━━╇━━━━━━━━━━━━━━━━━━━━━━━━╇━━━━━━━━━━━━━━━┩\n",
       "│ lstm_1 (\u001b[38;5;33mLSTM\u001b[0m)                   │ (\u001b[38;5;45mNone\u001b[0m, \u001b[38;5;34m20\u001b[0m, \u001b[38;5;34m64\u001b[0m)         │        \u001b[38;5;34m16,896\u001b[0m │\n",
       "├─────────────────────────────────┼────────────────────────┼───────────────┤\n",
       "│ dense_1 (\u001b[38;5;33mDense\u001b[0m)                 │ (\u001b[38;5;45mNone\u001b[0m, \u001b[38;5;34m20\u001b[0m, \u001b[38;5;34m1\u001b[0m)          │            \u001b[38;5;34m65\u001b[0m │\n",
       "└─────────────────────────────────┴────────────────────────┴───────────────┘\n"
      ]
     },
     "metadata": {},
     "output_type": "display_data"
    },
    {
     "data": {
      "text/html": [
       "<pre style=\"white-space:pre;overflow-x:auto;line-height:normal;font-family:Menlo,'DejaVu Sans Mono',consolas,'Courier New',monospace\"><span style=\"font-weight: bold\"> Total params: </span><span style=\"color: #00af00; text-decoration-color: #00af00\">16,961</span> (66.25 KB)\n",
       "</pre>\n"
      ],
      "text/plain": [
       "\u001b[1m Total params: \u001b[0m\u001b[38;5;34m16,961\u001b[0m (66.25 KB)\n"
      ]
     },
     "metadata": {},
     "output_type": "display_data"
    },
    {
     "data": {
      "text/html": [
       "<pre style=\"white-space:pre;overflow-x:auto;line-height:normal;font-family:Menlo,'DejaVu Sans Mono',consolas,'Courier New',monospace\"><span style=\"font-weight: bold\"> Trainable params: </span><span style=\"color: #00af00; text-decoration-color: #00af00\">16,961</span> (66.25 KB)\n",
       "</pre>\n"
      ],
      "text/plain": [
       "\u001b[1m Trainable params: \u001b[0m\u001b[38;5;34m16,961\u001b[0m (66.25 KB)\n"
      ]
     },
     "metadata": {},
     "output_type": "display_data"
    },
    {
     "data": {
      "text/html": [
       "<pre style=\"white-space:pre;overflow-x:auto;line-height:normal;font-family:Menlo,'DejaVu Sans Mono',consolas,'Courier New',monospace\"><span style=\"font-weight: bold\"> Non-trainable params: </span><span style=\"color: #00af00; text-decoration-color: #00af00\">0</span> (0.00 B)\n",
       "</pre>\n"
      ],
      "text/plain": [
       "\u001b[1m Non-trainable params: \u001b[0m\u001b[38;5;34m0\u001b[0m (0.00 B)\n"
      ]
     },
     "metadata": {},
     "output_type": "display_data"
    }
   ],
   "source": [
    "# Create the model\n",
    "# model = Sequential([\n",
    "#     Input(shape=(x_train.shape[1], 1)),\n",
    "#     LSTM(64, return_sequences=True),\n",
    "#     LSTM(64, return_sequences=True),\n",
    "#     Dense(32),\n",
    "#     Dropout(0.5),\n",
    "#     Dense(1)\n",
    "# ])\n",
    "\n",
    "# trying an optimizer to improve training (and stop nans)\n",
    "# At least my first attempt with these values seemed to dramatically improve the loss functions... mixed results after more playing\n",
    "lr_schedule = CosineDecay(initial_learning_rate=1e-3, decay_steps=1e4)\n",
    "optimizer = Adam(learning_rate=lr_schedule)\n",
    "#optimizer = Adam()\n",
    "\n",
    "model = Sequential([\n",
    "    Input(shape=(x_train.shape[1], 1)),\n",
    "    LSTM(64, return_sequences=True),\n",
    "    Dense(1)\n",
    "])\n",
    "\n",
    "model.compile(loss='mean_squared_error', optimizer=optimizer)\n",
    "model.summary()"
   ]
  },
  {
   "cell_type": "code",
   "execution_count": 23,
   "metadata": {},
   "outputs": [
    {
     "name": "stdout",
     "output_type": "stream",
     "text": [
      "Epoch 1/32\n",
      "188/188 - 4s - 20ms/step - loss: 9.3294e-04 - val_loss: 0.0121\n",
      "Epoch 2/32\n",
      "188/188 - 3s - 14ms/step - loss: 0.0017 - val_loss: 0.0055\n",
      "Epoch 3/32\n",
      "188/188 - 3s - 14ms/step - loss: 0.0019 - val_loss: 0.0075\n",
      "Epoch 4/32\n",
      "188/188 - 2s - 12ms/step - loss: 0.0016 - val_loss: 0.0017\n",
      "Epoch 5/32\n",
      "188/188 - 3s - 13ms/step - loss: 0.0037 - val_loss: 0.0025\n",
      "Epoch 6/32\n",
      "188/188 - 2s - 12ms/step - loss: 0.0027 - val_loss: 6.3170e-04\n",
      "Epoch 7/32\n",
      "188/188 - 2s - 12ms/step - loss: 0.0018 - val_loss: 5.5087e-04\n",
      "Epoch 8/32\n",
      "188/188 - 2s - 12ms/step - loss: 0.0017 - val_loss: 7.9904e-04\n",
      "Epoch 9/32\n",
      "188/188 - 2s - 12ms/step - loss: 0.0013 - val_loss: 0.0022\n",
      "Epoch 10/32\n",
      "188/188 - 2s - 12ms/step - loss: 0.0014 - val_loss: 0.0013\n",
      "Epoch 11/32\n",
      "188/188 - 2s - 12ms/step - loss: 0.0015 - val_loss: 0.0020\n",
      "Epoch 12/32\n",
      "188/188 - 4s - 23ms/step - loss: 0.0029 - val_loss: 6.2824e-04\n",
      "Epoch 13/32\n",
      "188/188 - 2s - 12ms/step - loss: 0.0021 - val_loss: 3.3045e-04\n",
      "Epoch 14/32\n",
      "188/188 - 2s - 12ms/step - loss: 0.0011 - val_loss: 0.0016\n",
      "Epoch 15/32\n",
      "188/188 - 2s - 12ms/step - loss: 6.9645e-04 - val_loss: 0.0011\n",
      "Epoch 16/32\n",
      "188/188 - 2s - 12ms/step - loss: 6.0357e-04 - val_loss: 0.0019\n",
      "Epoch 17/32\n",
      "188/188 - 2s - 11ms/step - loss: 6.0786e-04 - val_loss: 0.0014\n",
      "Epoch 18/32\n",
      "188/188 - 2s - 12ms/step - loss: 6.9711e-04 - val_loss: 0.0021\n",
      "Epoch 19/32\n",
      "188/188 - 2s - 13ms/step - loss: 5.8295e-04 - val_loss: 0.0013\n",
      "Epoch 20/32\n",
      "188/188 - 2s - 11ms/step - loss: 5.6249e-04 - val_loss: 0.0010\n",
      "Epoch 21/32\n",
      "188/188 - 2s - 12ms/step - loss: 6.2315e-04 - val_loss: 0.0019\n",
      "Epoch 22/32\n",
      "188/188 - 2s - 12ms/step - loss: 6.1438e-04 - val_loss: 0.0021\n",
      "Epoch 23/32\n",
      "188/188 - 2s - 13ms/step - loss: 0.0013 - val_loss: 0.0019\n",
      "Epoch 24/32\n",
      "188/188 - 2s - 12ms/step - loss: 0.0012 - val_loss: 9.7841e-04\n",
      "Epoch 25/32\n",
      "188/188 - 2s - 13ms/step - loss: 0.0012 - val_loss: 0.0011\n",
      "Epoch 26/32\n",
      "188/188 - 4s - 23ms/step - loss: 0.0012 - val_loss: 6.0739e-04\n",
      "Epoch 27/32\n",
      "188/188 - 2s - 12ms/step - loss: 9.5539e-04 - val_loss: 0.0019\n",
      "Epoch 28/32\n",
      "188/188 - 2s - 12ms/step - loss: 0.0012 - val_loss: 0.0015\n",
      "Epoch 29/32\n",
      "188/188 - 3s - 16ms/step - loss: 0.0012 - val_loss: 0.0012\n",
      "Epoch 30/32\n",
      "188/188 - 5s - 26ms/step - loss: 0.0012 - val_loss: 0.0012\n",
      "Epoch 31/32\n",
      "188/188 - 2s - 13ms/step - loss: 9.0361e-04 - val_loss: 7.2877e-04\n",
      "Epoch 32/32\n",
      "188/188 - 3s - 14ms/step - loss: 9.3375e-04 - val_loss: 7.3930e-04\n"
     ]
    }
   ],
   "source": [
    "# I think I may need to redefine the model above if I want to rerun this (otherwise it might build on the previous model?)\n",
    "history = model.fit(\n",
    "    x_train, y_train, \n",
    "    epochs=32,\n",
    "    batch_size=16,\n",
    "    verbose=2,\n",
    "    shuffle=False,\n",
    "    validation_data=(x_valid, y_valid)\n",
    ")"
   ]
  },
  {
   "cell_type": "code",
   "execution_count": 24,
   "metadata": {},
   "outputs": [
    {
     "data": {
      "text/plain": [
       "<matplotlib.legend.Legend at 0x7f4db0eff2c0>"
      ]
     },
     "execution_count": 24,
     "metadata": {},
     "output_type": "execute_result"
    },
    {
     "data": {
      "image/png": "[encoded data removed]",
      "text/plain": [
       "<Figure size 640x480 with 1 Axes>"
      ]
     },
     "metadata": {},
     "output_type": "display_data"
    }
   ],
   "source": [
    "# plot the loss curve\n",
    "f, ax = plt.subplots()\n",
    "ax.plot(history.history['loss'], label = 'training')\n",
    "ax.plot(history.history['val_loss'], label = 'validation')\n",
    "ax.set_yscale('log')\n",
    "ax.set_xlabel('Epoch')\n",
    "ax.set_ylabel('Loss')\n",
    "ax.legend()\n"
   ]
  },
  {
   "cell_type": "code",
   "execution_count": 25,
   "metadata": {},
   "outputs": [
    {
     "name": "stdout",
     "output_type": "stream",
     "text": [
      "\u001b[1m94/94\u001b[0m \u001b[32m━━━━━━━━━━━━━━━━━━━━\u001b[0m\u001b[37m\u001b[0m \u001b[1m1s\u001b[0m 7ms/step\n",
      "\u001b[1m7/7\u001b[0m \u001b[32m━━━━━━━━━━━━━━━━━━━━\u001b[0m\u001b[37m\u001b[0m \u001b[1m0s\u001b[0m 9ms/step \n"
     ]
    }
   ],
   "source": [
    "y_train_pred = model.predict(x_train)\n",
    "y_test_pred = model.predict(x_test)"
   ]
  },
  {
   "cell_type": "code",
   "execution_count": 26,
   "metadata": {},
   "outputs": [],
   "source": [
    "# for the model with more layers\n",
    "# prediction_train = y_train_pred.T.reshape(-1)\n",
    "# prediction_test = y_test_pred.T.reshape(-1)\n",
    "\n",
    "\n",
    "# for the model with less layers\n",
    "# Extract the last predicted value from each sequence and reshape to match the expected target shape (X,)\n",
    "prediction_train = y_train_pred[:, -1, :]  \n",
    "prediction_train = prediction_train.reshape(-1) \n",
    "\n",
    "prediction_test = y_test_pred[:, -1, :]  \n",
    "prediction_test = prediction_test.reshape(-1) "
   ]
  },
  {
   "cell_type": "code",
   "execution_count": 27,
   "metadata": {},
   "outputs": [],
   "source": [
    "# rescale back to the true values (requiring array reshaping)\n",
    "#prediction = scaler.inverse_transform(np.array([prediction]).T).T\n"
   ]
  },
  {
   "cell_type": "code",
   "execution_count": 28,
   "metadata": {},
   "outputs": [
    {
     "name": "stdout",
     "output_type": "stream",
     "text": [
      "2999 2999\n",
      "222 222\n"
     ]
    }
   ],
   "source": [
    "print(len(prediction_train), len(date_train))\n",
    "print(len(prediction_test), len(date_test))"
   ]
  },
  {
   "cell_type": "code",
   "execution_count": 29,
   "metadata": {},
   "outputs": [
    {
     "data": {
      "text/plain": [
       "<matplotlib.legend.Legend at 0x7f4c26b40ad0>"
      ]
     },
     "execution_count": 29,
     "metadata": {},
     "output_type": "execute_result"
    },
    {
     "data": {
      "image/png": "[encoded data removed]",
      "text/plain": [
       "<Figure size 640x480 with 1 Axes>"
      ]
     },
     "metadata": {},
     "output_type": "display_data"
    }
   ],
   "source": [
    "f,ax = plt.subplots()\n",
    "ax.plot(date_valid, y_valid, label = 'validation')\n",
    "ax.plot(date_train, y_train, label = 'training')\n",
    "ax.plot(date_test, y_test, label = 'testing')\n",
    "ax.plot(date_train, prediction_train, label='training prediction')\n",
    "ax.plot(date_test, prediction_test, label='testing prediction')\n",
    "\n",
    "ax.set_xlabel('Date')\n",
    "ax.set_ylabel('Scaled USD')\n",
    "ax.legend()"
   ]
  },
  {
   "cell_type": "code",
   "execution_count": null,
   "metadata": {},
   "outputs": [],
   "source": []
  }
 ],
 "metadata": {
  "kernelspec": {
   "display_name": "ml-tensorflow-wsl",
   "language": "python",
   "name": "python3"
  },
  "language_info": {
   "codemirror_mode": {
    "name": "ipython",
    "version": 3
   },
   "file_extension": ".py",
   "mimetype": "text/x-python",
   "name": "python",
   "nbconvert_exporter": "python",
   "pygments_lexer": "ipython3",
   "version": "3.12.8"
  }
 },
 "nbformat": 4,
 "nbformat_minor": 2
}
